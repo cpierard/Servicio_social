{
 "cells": [
  {
   "cell_type": "markdown",
   "metadata": {},
   "source": [
    "## Ecuaciones\n",
    "\n",
    "Las ecuaciones que descirben el problema son las de Navier-Stokes para fluidos incompresibles en dos dimensiones:\n",
    "\n",
    "\\begin{equation}\n",
    "\\nabla \\cdot \\textbf{u} = 0,\\\\\n",
    "\\rho \\frac{D\\ \\textbf{u}}{Dt}  = \\textbf{f} +\\nabla \\cdot  \\underline{\\underline{\\sigma}}^\\intercal \\\\\n",
    "\\end{equation}\n",
    "\n",
    "La primera ecuación es la condición para que el fluido sea incompresible, y la segunda es la ecuación de momento, donde el tensor de esfuerzos es:\n",
    "\n",
    "\\begin{equation}\n",
    "\\underline{\\underline{\\sigma}} = p \\underline{\\underline{I}} + 2 \\nu \\underline{\\underline{e}}, \\\\\n",
    "\\underline{\\underline{e}} = \\frac{1}{2} (\\nabla \\textbf{u} + \\nabla \\textbf{u}^\\intercal),\n",
    "\\end{equation}\n",
    "\n",
    "donde $\\nu$ es la viscosidad dinámica, $\\textbf{u} = (u, v)$ y  $\\textbf{x} = (x, y)$. Sutituyendo en la ecuación de momentos es tiene\n",
    "\n",
    "\\begin{equation}\n",
    "\\rho \\frac{D\\ \\textbf{u}}{Dt}  = \\textbf{f} - \\nabla \\cdot p + 2  \\nu \\ \\nabla \\cdot \\underline{\\underline{e}}.\n",
    "\\end{equation}\n",
    "\n",
    "$\\textbf{f}$ es la fuerza de cuerpo por unidad de volumen, en este caso es la fuerza debida a la gravedad: $\\textbf{f} = \\rho \\ \\textbf{g}$, con $\\textbf{g} = (0, -g)$.\n",
    "\n",
    "\\begin{equation}\n",
    "\\rho \\frac{D\\ \\textbf{u}}{Dt}  = \\rho \\ \\textbf{g} - \\nabla \\cdot p +  \\nu \\ \\nabla \\cdot (\\nabla \\textbf{u} + \\nabla \\textbf{u} ^\\intercal), \\\\\n",
    "\\rho \\Bigg[ \\frac{\\partial  \\textbf{u}}{\\partial t} + \\textbf{u} \\cdot \\nabla \\textbf{u} \\Bigg ]  = \\rho \\ \\textbf{g} - \\nabla \\cdot p +  \\nu \\ \\nabla \\cdot (\\nabla \\textbf{u} + \\nabla \\textbf{u} ^\\intercal).\n",
    "\\end{equation}"
   ]
  },
  {
   "cell_type": "markdown",
   "metadata": {},
   "source": [
    "Desarrollando la condición de imcompresibilidad en notación de índices:\n",
    "\n",
    "\\begin{equation}\n",
    "\\frac{\\partial u_j}{\\partial x_j} = 0,\\\\\n",
    "\\end{equation}\n",
    "\n",
    "y también la ecuación del momento:\n",
    "\n",
    "\\begin{equation}\n",
    "\\rho \\Bigg[ \\frac{\\partial u_j}{\\partial t} + u_i\\frac{\\partial u_j}{\\partial x_i} \\Bigg]= \\rho \\ g_j - \\frac{\\partial p}{\\partial x_j} +  \\nu \\Bigg [ \\frac{\\partial }{\\partial x_i} \\Bigg ( \\frac{\\partial u_j}{\\partial x_i} +  \\frac{\\partial u_i}{\\partial x_j} \\Bigg ) \\Bigg ], \\\\\n",
    "\\implies \\rho \\Bigg[ \\frac{\\partial u_j}{\\partial t} + u_i\\frac{\\partial u_j}{\\partial x_i} \\Bigg] = \\rho \\ g_j - \\frac{\\partial p}{\\partial x_j} +  \\nu \\Bigg [ \\frac{\\partial ^2 u_j}{\\partial x_i \\partial x_i} +  \\frac{\\partial ^2  u_i}{\\partial x_i\\partial x_j} \\Bigg ].\n",
    "\\end{equation}\n",
    "\n",
    "De la condición de imcompresiblidad podemos notar que el último término en la ecuación de momentos se cancela:\n",
    "\n",
    "\\begin{equation}\n",
    "\\frac{\\partial ^2  u_i}{\\partial x_i\\partial x_j} = \\frac{\\partial ^2  u_i}{\\partial x_j\\partial x_i} = \\frac{\\partial}{\\partial x_j}\\Bigg (\\frac{\\partial u_i}{\\partial x_i} \\Bigg ) = 0.\n",
    "\\end{equation}\n",
    "\n",
    "Entonces la ecuación se reduce a\n",
    "\\begin{equation}\n",
    "\\rho \\Bigg[ \\frac{\\partial u_j}{\\partial t} + u_i\\frac{\\partial u_j}{\\partial x_i} \\Bigg] = \\rho \\ g_j - \\frac{\\partial p}{\\partial x_j} +  \\nu \\frac{\\partial ^2 u_j}{\\partial x_i \\partial x_i} .\n",
    "\\end{equation}\n",
    "\n"
   ]
  },
  {
   "cell_type": "markdown",
   "metadata": {},
   "source": [
    "Ahora nos interesa reescribir lo anterior en términos de variables adimensionales, para ello proponemos las siguientes variables adimensionales:\n",
    "\n",
    "$$\\textbf{u}^* = \\frac{\\textbf{u}}{U}, \\ \\textbf{x}^* = \\frac{\\textbf{x}}{L}, \\ \\rho^* = \\frac{\\rho}{\\rho_0}, \\ t^* = \\frac{U}{L} t, \\ p^* = \\frac{p - p_0}{\\rho U^2}.$$\n",
    "\n",
    "Sustituyendo en la ecuación de momentos:\n",
    "\n",
    "$$\\rho_0 \\rho^* \\Bigg[ \\frac{U^2}{L} \\frac{\\partial u_j ^*}{\\partial t ^*} + \\frac{U^2}{L} u_i^*\\frac{\\partial u_j^*}{\\partial x_i^*} \\Bigg] = \\rho_0 \\rho^* \\ g_j ^*- \\frac{\\rho_0 \\rho^* U^2}{L} \\frac{\\partial p^*}{\\partial x_j^*} +  \\nu  \\frac{U}{L^2} \\frac{\\partial ^2 u_j^*}{\\partial x_i^* \\partial x_i^*} .$$\n",
    "\n",
    "$$\\frac{\\partial u_j ^*}{\\partial t ^*} + u_i^*\\frac{\\partial u_j^*}{\\partial x_i^*} =  \\frac{L}{U^2} \\ g_j^* -  \\frac{\\partial p^*}{\\partial x_j^*} + \\frac{\\nu}{\\rho_0 \\rho^* U L} \\frac{\\partial ^2 u_j^*}{\\partial x_i^* \\partial x_i^*} .$$\n",
    "\n",
    "$$\\implies \\frac{\\partial u_j ^*}{\\partial t ^*} + u_i^*\\frac{\\partial u_j^*}{\\partial x_i^*} = \\frac{L}{U^2} \\ g_j^* -  \\frac{\\partial p^*}{\\partial x_j^*} + \\frac{1}{\\rho_0 Re} \\frac{\\partial ^2 u_j^*}{\\partial x_i^* \\partial x_i^*} .$$"
   ]
  },
  {
   "cell_type": "markdown",
   "metadata": {},
   "source": [
    "Desarrollando para ambas coordenadas (quitando los $^*$ a los términos) se tienen las siguientes ecuaciones:\n",
    "\n",
    "$$ \\frac{\\partial u}{\\partial t} + u \\frac{\\partial u}{\\partial x} + v \\frac{\\partial u}{\\partial y}  = -  \\frac{\\partial p}{\\partial x} + \\frac{1}{\\rho_0 \\ Re} \\Bigg [ \\frac{\\partial ^2 u}{\\partial x^{2} } + \\frac{\\partial ^2 u}{\\partial y^{2}} \\Bigg ] ,$$\n",
    "\n",
    "$$ \\frac{\\partial v }{\\partial t} + u \\frac{\\partial }{\\partial } + v \\frac{\\partial v}{\\partial y}  = -\\frac{L}{U^2} \\ g -  \\frac{\\partial p}{\\partial y} + \\frac{\\nu}{\\rho_0 \\ Re} \\Bigg [ \\frac{\\partial ^2 v}{\\partial x^{2} } + \\frac{\\partial ^2 v}{\\partial y^{2}} \\Bigg ] .$$\n",
    "\n",
    "##### Ecuación de continuidad\n",
    "\n",
    "$$\\frac{\\partial u}{\\partial x} + \\frac{\\partial v}{\\partial y} = 0$$"
   ]
  },
  {
   "cell_type": "markdown",
   "metadata": {},
   "source": [
    "##### Ecuación de calor\n",
    "\n",
    "$$\\partial_t T - \\kappa \\nabla^2 T = -\\textbf{u} \\cdot \\nabla T - k (T-T_{air}).$$  \n",
    "\n",
    "Desarrollando todos los términos:\n",
    "\n",
    "$$\\frac{\\partial T}{\\partial t} - \\kappa \\Bigg[\\frac{\\partial ^2 T}{\\partial x^2} + \\frac{\\partial ^2 T}{\\partial y^2} \\Bigg]\n",
    "= -u\\frac{\\partial T}{\\partial x} - v \\frac{\\partial T}{\\partial y} - k(T - T_{air}).$$\n",
    "\n",
    "##### Ecuación de estado del agua\n",
    "\n",
    "$$\\frac{\\delta \\rho(T)}{\\rho_0} = -\\alpha (T-T_0)^2,$$\n",
    "\n",
    "en donde $\\delta \\rho = \\rho - \\rho_0$. Reescribiendo se tiene:\n",
    "\n",
    "$$\\rho = \\rho_0 (1 - \\alpha(T-T_0)^2).$$\n",
    "\n",
    "Se va a resolver para $u$, $v$, $p$, $\\rho$, $T$."
   ]
  },
  {
   "cell_type": "code",
   "execution_count": null,
   "metadata": {
    "collapsed": true
   },
   "outputs": [],
   "source": []
  }
 ],
 "metadata": {
  "kernelspec": {
   "display_name": "Python 3",
   "language": "python",
   "name": "python3"
  },
  "language_info": {
   "codemirror_mode": {
    "name": "ipython",
    "version": 3
   },
   "file_extension": ".py",
   "mimetype": "text/x-python",
   "name": "python",
   "nbconvert_exporter": "python",
   "pygments_lexer": "ipython3",
   "version": "3.5.0"
  }
 },
 "nbformat": 4,
 "nbformat_minor": 2
}
