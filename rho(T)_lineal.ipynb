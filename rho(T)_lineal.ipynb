{
 "cells": [
  {
   "cell_type": "markdown",
   "metadata": {
    "collapsed": false
   },
   "source": [
    "# Convección en un gradiente de temperaturas lineal\n",
    "\n",
    "Para realizar esta simulación tomé el modelo de `rayleigh_bernard` en dos dimensiones que venía en los ejemplos de dedalus, donde se resuelve para las variables de velocidad `(u, w)` y flotabilidad `b`, usando las siguientes ecuaciones:\n",
    "\n",
    "$$\\partial_x u + \\partial_z w = 0,$$\n",
    "$$\\partial_t b - - P (\\partial_{xx} b + \\partial_{zz} b) - F * w = - u \\partial_x b - w \\partial_z b,$$\n",
    "$$\\partial_t u - R(\\partial_{xx} u + \\partial_{zz} u) + \\partial_x P = - u \\partial_x u - w \\partial_z u,$$\n",
    "$$\\partial_t w - R(\\partial_{xx} w + \\partial_{zz} w) + \\partial_z P = - u \\partial_x w - w \\partial_z w.$$\n",
    "\n",
    "Ya que me interesa poner una estratificación como condición incial, expandí la flotabilidad como la diferencia de densidadades entre la parcela y una densidad promedio `ρ0`, donde la densidad de la parcela depende de la temperatura de la siguiente forma:\n",
    "\n",
    "$$\\rho = \\rho_0 - \\rho_0\\alpha(T - T_0)^2.$$\n",
    "\n",
    "La ecuación que rige la transferencia de calor es la ecuación calórica:\n",
    "\n",
    "$$\\partial_t T  - \\kappa (\\partial_{xx} T + \\partial_{yy} T) = - u \\partial_x T  - v \\partial_y T$$.\n",
    "\n",
    "Las ecuaciones de continuidad y de Navier-Stokes, se mantienen igual."
   ]
  },
  {
   "cell_type": "code",
   "execution_count": 1,
   "metadata": {
    "collapsed": true
   },
   "outputs": [],
   "source": [
    "%matplotlib inline"
   ]
  },
  {
   "cell_type": "code",
   "execution_count": 2,
   "metadata": {
    "collapsed": false
   },
   "outputs": [],
   "source": [
    "import numpy as np\n",
    "import matplotlib.pyplot as plt\n",
    "import h5py \n",
    "from dedalus import public as de\n",
    "from dedalus.extras import flow_tools\n",
    "import time\n",
    "from IPython import display\n",
    "from matplotlib import animation"
   ]
  },
  {
   "cell_type": "code",
   "execution_count": 3,
   "metadata": {
    "collapsed": true
   },
   "outputs": [],
   "source": [
    "import logging\n",
    "root = logging.root\n",
    "for h in root.handlers:\n",
    "    h.setLevel(\"INFO\")\n",
    "    \n",
    "logger = logging.getLogger(__name__)"
   ]
  },
  {
   "cell_type": "markdown",
   "metadata": {},
   "source": [
    "## Dominio del problema"
   ]
  },
  {
   "cell_type": "code",
   "execution_count": 4,
   "metadata": {
    "collapsed": false
   },
   "outputs": [],
   "source": [
    "Lx, Ly = (0.2, 0.35)\n",
    "nx, ny = (256, 256)\n",
    "Prandtl = 1.\n",
    "Rayleigh = 5.8e7\n",
    "T0 = 2.0 \n",
    "ρ0 = (999.9720 + 999.8395)/2\n",
    "α = 8.1e-6\n",
    "\n",
    "x_basis = de.Fourier('x', nx, interval=(0, Lx))\n",
    "y_basis = de.Chebyshev('y', ny, interval=(0, Ly))\n",
    "domain = de.Domain([x_basis, y_basis], grid_dtype=np.float64)"
   ]
  },
  {
   "cell_type": "markdown",
   "metadata": {},
   "source": [
    "## Ecuaciones"
   ]
  },
  {
   "cell_type": "code",
   "execution_count": 5,
   "metadata": {
    "collapsed": true
   },
   "outputs": [],
   "source": [
    "problem = de.IVP(domain, variables=['p', 'u', 'v', 'ρ', 'T', 'uy', 'vy', 'Ty'])"
   ]
  },
  {
   "cell_type": "code",
   "execution_count": 6,
   "metadata": {
    "collapsed": false
   },
   "outputs": [],
   "source": [
    "problem.meta['p', 'T', 'u', 'v', 'ρ']['y']['dirichlet'] = True"
   ]
  },
  {
   "cell_type": "code",
   "execution_count": 7,
   "metadata": {
    "collapsed": false
   },
   "outputs": [],
   "source": [
    "problem.parameters['P'] = (Rayleigh * Prandtl)**(-1/2)\n",
    "problem.parameters['R'] = (Rayleigh / Prandtl)**(-1/2)\n",
    "#problem.parameters['F'] = F = 1\n",
    "problem.parameters['ρ0'] = ρ0\n",
    "problem.parameters['T_0'] = T0 #4.0 ºC\n",
    "problem.parameters['K'] = 1.3e-7 \n",
    "problem.parameters['g'] = 9.8\n",
    "problem.parameters['α'] = α\n",
    "\n",
    "problem.add_equation(\"dx(u) + vy = 0\")\n",
    "problem.add_equation(\"dt(u) - R*(dx(dx(u)) + dy(uy)) + dx(p) = -(u*dx(u) + v*uy)\")\n",
    "problem.add_equation(\"dt(v) - R*(dx(dx(v)) + dy(vy)) + dy(p) = -(u*dx(v) + v*vy) - g*(ρ - ρ0)/ρ0\")\n",
    "problem.add_equation(\"ρ = ρ0 - ρ0*α*(T - T_0)**2\")\n",
    "problem.add_equation(\"dt(T) - K*(dx(dx(T)) + dy(Ty)) = - u*dx(T) - v*Ty\")\n",
    "problem.add_equation(\"Ty - dy(T) = 0\")\n",
    "problem.add_equation(\"uy - dy(u) = 0\")\n",
    "problem.add_equation(\"vy - dy(v) = 0\")\n",
    "\n",
    "problem.add_bc(\"left(T) = 0.0\")\n",
    "problem.add_bc(\"right(T) = T_0\")\n",
    "problem.add_bc(\"left(u) = 0\")\n",
    "problem.add_bc(\"left(v) = 0\")\n",
    "problem.add_bc(\"right(u) = 0\")\n",
    "problem.add_bc(\"right(v) = 0\", condition=\"(nx != 0)\")\n",
    "problem.add_bc(\"right(p) = 0\", condition=\"(nx == 0)\")"
   ]
  },
  {
   "cell_type": "markdown",
   "metadata": {
    "collapsed": true
   },
   "source": [
    "## Condiciones de frontera"
   ]
  },
  {
   "cell_type": "code",
   "execution_count": 8,
   "metadata": {
    "collapsed": false
   },
   "outputs": [
    {
     "name": "stdout",
     "output_type": "stream",
     "text": [
      "2017-06-12 11:42:30,760 pencil 0/1 INFO :: Building pencil matrix 1/128 (~1%) Elapsed: 0s, Remaining: 6s, Rate: 2.0e+01/s\n",
      "2017-06-12 11:42:31,226 pencil 0/1 INFO :: Building pencil matrix 13/128 (~10%) Elapsed: 1s, Remaining: 5s, Rate: 2.5e+01/s\n",
      "2017-06-12 11:42:31,818 pencil 0/1 INFO :: Building pencil matrix 26/128 (~20%) Elapsed: 1s, Remaining: 4s, Rate: 2.3e+01/s\n",
      "2017-06-12 11:42:32,493 pencil 0/1 INFO :: Building pencil matrix 39/128 (~30%) Elapsed: 2s, Remaining: 4s, Rate: 2.2e+01/s\n",
      "2017-06-12 11:42:33,028 pencil 0/1 INFO :: Building pencil matrix 52/128 (~41%) Elapsed: 2s, Remaining: 3s, Rate: 2.2e+01/s\n",
      "2017-06-12 11:42:33,561 pencil 0/1 INFO :: Building pencil matrix 65/128 (~51%) Elapsed: 3s, Remaining: 3s, Rate: 2.3e+01/s\n",
      "2017-06-12 11:42:34,083 pencil 0/1 INFO :: Building pencil matrix 78/128 (~61%) Elapsed: 3s, Remaining: 2s, Rate: 2.3e+01/s\n",
      "2017-06-12 11:42:34,610 pencil 0/1 INFO :: Building pencil matrix 91/128 (~71%) Elapsed: 4s, Remaining: 2s, Rate: 2.3e+01/s\n",
      "2017-06-12 11:42:35,143 pencil 0/1 INFO :: Building pencil matrix 104/128 (~81%) Elapsed: 4s, Remaining: 1s, Rate: 2.3e+01/s\n",
      "2017-06-12 11:42:35,676 pencil 0/1 INFO :: Building pencil matrix 117/128 (~91%) Elapsed: 5s, Remaining: 0s, Rate: 2.4e+01/s\n",
      "2017-06-12 11:42:36,130 pencil 0/1 INFO :: Building pencil matrix 128/128 (~100%) Elapsed: 5s, Remaining: 0s, Rate: 2.4e+01/s\n"
     ]
    }
   ],
   "source": [
    "solver = problem.build_solver(de.timesteppers.RK222)"
   ]
  },
  {
   "cell_type": "markdown",
   "metadata": {},
   "source": [
    "## Condiciones iniciales"
   ]
  },
  {
   "cell_type": "code",
   "execution_count": 9,
   "metadata": {
    "collapsed": false
   },
   "outputs": [],
   "source": [
    "x = domain.grid(0)\n",
    "y = domain.grid(1)\n",
    "T = solver.state['T']\n",
    "Ty = solver.state['Ty']\n",
    "ρ = solver.state['ρ']"
   ]
  },
  {
   "cell_type": "markdown",
   "metadata": {},
   "source": [
    "#### Perfil de temepratura lineal"
   ]
  },
  {
   "cell_type": "code",
   "execution_count": 10,
   "metadata": {
    "collapsed": false
   },
   "outputs": [],
   "source": [
    "yb, yt = y_basis.interval"
   ]
  },
  {
   "cell_type": "code",
   "execution_count": 11,
   "metadata": {
    "collapsed": false
   },
   "outputs": [
    {
     "data": {
      "text/plain": [
       "0.35"
      ]
     },
     "execution_count": 11,
     "metadata": {},
     "output_type": "execute_result"
    }
   ],
   "source": [
    "yt"
   ]
  },
  {
   "cell_type": "code",
   "execution_count": 12,
   "metadata": {
    "collapsed": false
   },
   "outputs": [],
   "source": [
    "x = domain.grid(0,scales=domain.dealias)\n",
    "y = domain.grid(1,scales=domain.dealias)\n",
    "xm, ym = np.meshgrid(x,y)"
   ]
  },
  {
   "cell_type": "code",
   "execution_count": 13,
   "metadata": {
    "collapsed": false
   },
   "outputs": [
    {
     "data": {
      "text/plain": [
       "(1, 256)"
      ]
     },
     "execution_count": 13,
     "metadata": {},
     "output_type": "execute_result"
    }
   ],
   "source": [
    "y.shape"
   ]
  },
  {
   "cell_type": "code",
   "execution_count": 14,
   "metadata": {
    "collapsed": false
   },
   "outputs": [
    {
     "data": {
      "text/plain": [
       "(256, 256)"
      ]
     },
     "execution_count": 14,
     "metadata": {},
     "output_type": "execute_result"
    }
   ],
   "source": [
    "T['g'].shape"
   ]
  },
  {
   "cell_type": "code",
   "execution_count": 15,
   "metadata": {
    "collapsed": false
   },
   "outputs": [],
   "source": [
    "T['g'] = 4/yt * y"
   ]
  },
  {
   "cell_type": "code",
   "execution_count": 16,
   "metadata": {
    "collapsed": false
   },
   "outputs": [
    {
     "data": {
      "text/plain": [
       "array([[  3.76494348e-05,   3.38836408e-04,   9.41164998e-04, ...,\n",
       "          3.99905884e+00,   3.99966116e+00,   3.99996235e+00],\n",
       "       [  3.76494348e-05,   3.38836408e-04,   9.41164998e-04, ...,\n",
       "          3.99905884e+00,   3.99966116e+00,   3.99996235e+00],\n",
       "       [  3.76494348e-05,   3.38836408e-04,   9.41164998e-04, ...,\n",
       "          3.99905884e+00,   3.99966116e+00,   3.99996235e+00],\n",
       "       ..., \n",
       "       [  3.76494348e-05,   3.38836408e-04,   9.41164998e-04, ...,\n",
       "          3.99905884e+00,   3.99966116e+00,   3.99996235e+00],\n",
       "       [  3.76494348e-05,   3.38836408e-04,   9.41164998e-04, ...,\n",
       "          3.99905884e+00,   3.99966116e+00,   3.99996235e+00],\n",
       "       [  3.76494348e-05,   3.38836408e-04,   9.41164998e-04, ...,\n",
       "          3.99905884e+00,   3.99966116e+00,   3.99996235e+00]])"
      ]
     },
     "execution_count": 16,
     "metadata": {},
     "output_type": "execute_result"
    }
   ],
   "source": [
    "T['g']"
   ]
  },
  {
   "cell_type": "code",
   "execution_count": 17,
   "metadata": {
    "collapsed": false
   },
   "outputs": [
    {
     "data": {
      "text/plain": [
       "<matplotlib.text.Text at 0x109467c88>"
      ]
     },
     "execution_count": 17,
     "metadata": {},
     "output_type": "execute_result"
    },
    {
     "data": {
      "image/png": "[encoded data removed]",
      "text/plain": [
       "<matplotlib.figure.Figure at 0x10944e080>"
      ]
     },
     "metadata": {},
     "output_type": "display_data"
    }
   ],
   "source": [
    "fig, axis = plt.subplots(figsize=(4,7))\n",
    "pT = axis.pcolormesh(xm, ym, T['g'].T, cmap='RdBu_r');\n",
    "plt.colorbar(pT)\n",
    "plt.title('Temperature')\n",
    "plt.xlabel('x')\n",
    "plt.ylabel('y')"
   ]
  },
  {
   "cell_type": "markdown",
   "metadata": {
    "collapsed": false
   },
   "source": [
    "- $T0 = 4.0$. \n",
    "- $ρ0 = (999.9720 + 999.8395)/2$.\n",
    "- $α = 8.1e-6$."
   ]
  },
  {
   "cell_type": "code",
   "execution_count": 18,
   "metadata": {
    "collapsed": false
   },
   "outputs": [
    {
     "data": {
      "text/plain": [
       "999.90575"
      ]
     },
     "execution_count": 18,
     "metadata": {},
     "output_type": "execute_result"
    }
   ],
   "source": [
    "ρ0"
   ]
  },
  {
   "cell_type": "code",
   "execution_count": 21,
   "metadata": {
    "collapsed": true
   },
   "outputs": [],
   "source": [
    "ρ['g'] = ρ0 - ρ0*α*(T['g'] - 2*T0)**2"
   ]
  },
  {
   "cell_type": "code",
   "execution_count": 22,
   "metadata": {
    "collapsed": false
   },
   "outputs": [
    {
     "data": {
      "text/plain": [
       "<matplotlib.text.Text at 0x114033b00>"
      ]
     },
     "execution_count": 22,
     "metadata": {},
     "output_type": "execute_result"
    },
    {
     "data": {
      "image/png": "[encoded data removed]",
      "text/plain": [
       "<matplotlib.figure.Figure at 0x113ceb898>"
      ]
     },
     "metadata": {},
     "output_type": "display_data"
    }
   ],
   "source": [
    "fig, axis = plt.subplots(figsize=(4,7))\n",
    "pρ = axis.pcolormesh(xm, ym, ρ['g'].T, cmap='RdBu_r');\n",
    "plt.colorbar(pρ)\n",
    "plt.title('density')"
   ]
  },
  {
   "cell_type": "code",
   "execution_count": 23,
   "metadata": {
    "collapsed": false,
    "scrolled": true
   },
   "outputs": [
    {
     "data": {
      "text/plain": [
       "[<matplotlib.lines.Line2D at 0x11463bba8>]"
      ]
     },
     "execution_count": 23,
     "metadata": {},
     "output_type": "execute_result"
    },
    {
     "data": {
      "image/png": "[encoded data removed]",
      "text/plain": [
       "<matplotlib.figure.Figure at 0x10d698d30>"
      ]
     },
     "metadata": {},
     "output_type": "display_data"
    }
   ],
   "source": [
    "plt.plot(ρ['g'][1,:])"
   ]
  },
  {
   "cell_type": "code",
   "execution_count": 24,
   "metadata": {
    "collapsed": false
   },
   "outputs": [],
   "source": [
    "# Initial timestep\n",
    "dt = 0.125\n",
    "# Integration parameters\n",
    "solver.stop_sim_time = 20\n",
    "solver.stop_wall_time = 30 * 70.\n",
    "solver.stop_iteration = np.inf\n",
    "\n",
    "# Analysis\n",
    "snapshots = solver.evaluator.add_file_handler('BC_T_0', sim_dt=0.25, max_writes=100)\n",
    "snapshots.add_system(solver.state)\n",
    "\n",
    "# CFL\n",
    "CFL = flow_tools.CFL(solver, initial_dt=dt, cadence=10, safety=1,\n",
    "                     max_change=1.5, min_change=0.5, max_dt=0.125, threshold=0.05)\n",
    "CFL.add_velocities(('u', 'v'))\n",
    "\n",
    "flow = flow_tools.GlobalFlowProperty(solver, cadence=10)\n",
    "flow.add_property(\"sqrt(u*u + v*v) / R\", name='Re')"
   ]
  },
  {
   "cell_type": "code",
   "execution_count": 23,
   "metadata": {
    "collapsed": false
   },
   "outputs": [
    {
     "name": "stdout",
     "output_type": "stream",
     "text": [
      "2017-06-12 11:17:24,025 __main__ 0/1 INFO :: Starting loop\n",
      "2017-06-12 11:17:25,139 __main__ 0/1 INFO :: Iteration: 1, Time: 1.250000e-01, dt: 1.250000e-01\n",
      "2017-06-12 11:17:25,140 __main__ 0/1 INFO :: Max Re = 0.000000\n",
      "2017-06-12 11:17:35,211 __main__ 0/1 INFO :: Iteration: 11, Time: 1.375000e+00, dt: 1.250000e-01\n",
      "2017-06-12 11:17:35,212 __main__ 0/1 INFO :: Max Re = 0.000000\n",
      "2017-06-12 11:17:45,304 __main__ 0/1 INFO :: Iteration: 21, Time: 2.625000e+00, dt: 1.250000e-01\n",
      "2017-06-12 11:17:45,305 __main__ 0/1 INFO :: Max Re = 0.000000\n",
      "2017-06-12 11:17:55,141 __main__ 0/1 INFO :: Iteration: 31, Time: 3.875000e+00, dt: 1.250000e-01\n",
      "2017-06-12 11:17:55,142 __main__ 0/1 INFO :: Max Re = 0.000000\n",
      "2017-06-12 11:18:04,956 __main__ 0/1 INFO :: Iteration: 41, Time: 5.125000e+00, dt: 1.250000e-01\n",
      "2017-06-12 11:18:04,957 __main__ 0/1 INFO :: Max Re = 0.000000\n",
      "2017-06-12 11:18:15,026 __main__ 0/1 INFO :: Iteration: 51, Time: 6.375000e+00, dt: 1.250000e-01\n",
      "2017-06-12 11:18:15,027 __main__ 0/1 INFO :: Max Re = 0.000000\n",
      "2017-06-12 11:18:27,486 __main__ 0/1 INFO :: Iteration: 61, Time: 7.625000e+00, dt: 1.250000e-01\n",
      "2017-06-12 11:18:27,488 __main__ 0/1 INFO :: Max Re = 0.000000\n",
      "2017-06-12 11:18:38,527 __main__ 0/1 INFO :: Iteration: 71, Time: 8.875000e+00, dt: 1.250000e-01\n",
      "2017-06-12 11:18:38,528 __main__ 0/1 INFO :: Max Re = 0.000000\n",
      "2017-06-12 11:18:49,194 __main__ 0/1 INFO :: Iteration: 81, Time: 1.012500e+01, dt: 1.250000e-01\n",
      "2017-06-12 11:18:49,195 __main__ 0/1 INFO :: Max Re = 0.000000\n",
      "2017-06-12 11:18:59,512 __main__ 0/1 INFO :: Iteration: 91, Time: 1.137500e+01, dt: 1.250000e-01\n",
      "2017-06-12 11:18:59,513 __main__ 0/1 INFO :: Max Re = 0.000000\n",
      "2017-06-12 11:19:10,202 __main__ 0/1 INFO :: Iteration: 101, Time: 1.262500e+01, dt: 1.250000e-01\n",
      "2017-06-12 11:19:10,203 __main__ 0/1 INFO :: Max Re = 0.000000\n",
      "2017-06-12 11:19:20,125 __main__ 0/1 INFO :: Iteration: 111, Time: 1.387500e+01, dt: 1.250000e-01\n",
      "2017-06-12 11:19:20,126 __main__ 0/1 INFO :: Max Re = 0.000000\n",
      "2017-06-12 11:19:30,279 __main__ 0/1 INFO :: Iteration: 121, Time: 1.512500e+01, dt: 1.250000e-01\n",
      "2017-06-12 11:19:30,280 __main__ 0/1 INFO :: Max Re = 0.000000\n",
      "2017-06-12 11:19:40,527 __main__ 0/1 INFO :: Iteration: 131, Time: 1.637500e+01, dt: 1.250000e-01\n",
      "2017-06-12 11:19:40,528 __main__ 0/1 INFO :: Max Re = 0.000000\n",
      "2017-06-12 11:19:51,179 __main__ 0/1 INFO :: Iteration: 141, Time: 1.762500e+01, dt: 1.250000e-01\n",
      "2017-06-12 11:19:51,180 __main__ 0/1 INFO :: Max Re = 0.000000\n",
      "2017-06-12 11:20:03,335 __main__ 0/1 INFO :: Iteration: 151, Time: 1.887500e+01, dt: 1.250000e-01\n",
      "2017-06-12 11:20:03,336 __main__ 0/1 INFO :: Max Re = 0.000000\n",
      "2017-06-12 11:20:14,341 solvers 0/1 INFO :: Simulation stop time reached.\n",
      "2017-06-12 11:20:14,342 __main__ 0/1 INFO :: Iterations: 160\n",
      "2017-06-12 11:20:14,345 __main__ 0/1 INFO :: Sim end time: 20.000000\n",
      "2017-06-12 11:20:14,348 __main__ 0/1 INFO :: Run time: 170.32 sec\n",
      "2017-06-12 11:20:14,349 __main__ 0/1 INFO :: Run time: 0.047310 cpu-hr\n"
     ]
    }
   ],
   "source": [
    "try:\n",
    "    logger.info('Starting loop')\n",
    "    start_time = time.time()\n",
    "    while solver.ok:\n",
    "        #print(\"hola\")\n",
    "        dt = CFL.compute_dt()\n",
    "        dt = solver.step(dt)\n",
    "        if (solver.iteration-1) % 10 == 0:\n",
    "            # Update plot of scalar field\n",
    "            logger.info('Iteration: %i, Time: %e, dt: %e' %(solver.iteration, solver.sim_time, dt))\n",
    "            logger.info('Max Re = %f' %flow.max('Re'))\n",
    "except:\n",
    "    logger.error('Exception raised, triggering end of main loop.')\n",
    "    raise\n",
    "finally:\n",
    "    end_time = time.time()\n",
    "    logger.info('Iterations: %i' %solver.iteration)\n",
    "    logger.info('Sim end time: %f' %solver.sim_time)\n",
    "    logger.info('Run time: %.2f sec' %(end_time-start_time))\n",
    "    logger.info('Run time: %f cpu-hr' %((end_time-start_time)/60/60*domain.dist.comm_cart.size))"
   ]
  },
  {
   "cell_type": "markdown",
   "metadata": {},
   "source": [
    "# Análisis de datos"
   ]
  },
  {
   "cell_type": "code",
   "execution_count": 30,
   "metadata": {
    "collapsed": true
   },
   "outputs": [],
   "source": [
    "def extraer_datos(nombre_h5):\n",
    "\n",
    "    with h5py.File(nombre_h5, flag ='r') as hdf:\n",
    "        base_items = list(hdf.items())\n",
    "        print(base_items, '\\n')\n",
    "        tasks = hdf.get('tasks')\n",
    "        tasks_items = list(tasks.items())\n",
    "        print(tasks_items)\n",
    "\n",
    "        T = np.array(tasks.get('T'))\n",
    "        print(T.shape)\n",
    "\n",
    "        ρ = np.array(tasks.get('ρ'))\n",
    "        print(ρ.shape)\n",
    "        \n",
    "    return T, ρ"
   ]
  },
  {
   "cell_type": "code",
   "execution_count": 25,
   "metadata": {
    "collapsed": true
   },
   "outputs": [],
   "source": [
    "def animar_dedalus(xm, ym, S, CMAP):\n",
    "    fig, axis = plt.subplots(figsize=(4,7))\n",
    "    p = axis.pcolormesh(xm, ym, S[0,:,:].T, cmap=CMAP)\n",
    "    plt.colorbar(p)\n",
    "\n",
    "    def init():\n",
    "                print('update init')\n",
    "                p.set_array(np.ravel(S[0,:-1,:-1].T))\n",
    "                return p\n",
    "\n",
    "    def update(frame):\n",
    "        p.set_array(np.ravel(S[frame, :-1, :-1].T))\n",
    "        return p\n",
    "\n",
    "    anim = animation.FuncAnimation(fig, update, frames= [i for i in range(1,len(S))], init_func=init,  blit = False)\n",
    "    plt.show()\n",
    "    return anim"
   ]
  },
  {
   "cell_type": "code",
   "execution_count": 26,
   "metadata": {
    "collapsed": false
   },
   "outputs": [
    {
     "name": "stdout",
     "output_type": "stream",
     "text": [
      "[('scales', <HDF5 group \"/scales\" (10 members)>), ('tasks', <HDF5 group \"/tasks\" (8 members)>)] \n",
      "\n",
      "[('p', <HDF5 dataset \"p\": shape (80, 256, 256), type \"<f8\">), ('u', <HDF5 dataset \"u\": shape (80, 256, 256), type \"<f8\">), ('v', <HDF5 dataset \"v\": shape (80, 256, 256), type \"<f8\">), ('T', <HDF5 dataset \"T\": shape (80, 256, 256), type \"<f8\">), ('uy', <HDF5 dataset \"uy\": shape (80, 256, 256), type \"<f8\">), ('ρ', <HDF5 dataset \"ρ\": shape (80, 256, 256), type \"<f8\">), ('vy', <HDF5 dataset \"vy\": shape (80, 256, 256), type \"<f8\">), ('Ty', <HDF5 dataset \"Ty\": shape (80, 256, 256), type \"<f8\">)]\n",
      "(80, 256, 256)\n",
      "(80, 256, 256)\n"
     ]
    }
   ],
   "source": [
    "T_dat , ρ_dat = extraer_datos('BC_T_0/BC_T_0_s1/BC_T_0_s1_p0.h5')"
   ]
  },
  {
   "cell_type": "code",
   "execution_count": 27,
   "metadata": {
    "collapsed": false
   },
   "outputs": [
    {
     "data": {
      "text/plain": [
       "(80, 256, 256)"
      ]
     },
     "execution_count": 27,
     "metadata": {},
     "output_type": "execute_result"
    }
   ],
   "source": [
    "ρ_dat.shape"
   ]
  },
  {
   "cell_type": "code",
   "execution_count": 28,
   "metadata": {
    "collapsed": false
   },
   "outputs": [
    {
     "data": {
      "text/plain": [
       "<matplotlib.colorbar.Colorbar at 0x104167f60>"
      ]
     },
     "execution_count": 28,
     "metadata": {},
     "output_type": "execute_result"
    },
    {
     "data": {
      "image/png": "[encoded data removed]",
      "text/plain": [
       "<matplotlib.figure.Figure at 0x11421c588>"
      ]
     },
     "metadata": {},
     "output_type": "display_data"
    }
   ],
   "source": [
    "fig, axis = plt.subplots(figsize=(4,7))\n",
    "p = axis.pcolormesh(xm, ym, ρ_dat[31].T, cmap='RdBu_r');\n",
    "plt.colorbar(p)"
   ]
  },
  {
   "cell_type": "code",
   "execution_count": 29,
   "metadata": {
    "collapsed": false
   },
   "outputs": [
    {
     "name": "stdout",
     "output_type": "stream",
     "text": [
      "update init\n"
     ]
    },
    {
     "data": {
      "image/png": "[encoded data removed]",
      "text/plain": [
       "<matplotlib.figure.Figure at 0x11450da90>"
      ]
     },
     "metadata": {},
     "output_type": "display_data"
    },
    {
     "name": "stdout",
     "output_type": "stream",
     "text": [
      "update init\n"
     ]
    }
   ],
   "source": [
    "anima = animar_dedalus(xm, ym, ρ_dat, 'RdBu_r')\n",
    "mywriter = animation.FFMpegWriter()\n",
    "anima.save('111.mp4',writer=mywriter, fps=30)"
   ]
  }
 ],
 "metadata": {
  "kernelspec": {
   "display_name": "Python 3",
   "language": "python",
   "name": "python3"
  },
  "language_info": {
   "codemirror_mode": {
    "name": "ipython",
    "version": 3
   },
   "file_extension": ".py",
   "mimetype": "text/x-python",
   "name": "python",
   "nbconvert_exporter": "python",
   "pygments_lexer": "ipython3",
   "version": "3.5.0"
  }
 },
 "nbformat": 4,
 "nbformat_minor": 2
}
