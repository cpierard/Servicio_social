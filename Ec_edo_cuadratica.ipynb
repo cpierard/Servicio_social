{
 "cells": [
  {
   "cell_type": "code",
   "execution_count": 1,
   "metadata": {
    "collapsed": false
   },
   "outputs": [
    {
     "name": "stderr",
     "output_type": "stream",
     "text": [
      "\u001b[1m\u001b[34mINFO: Recompiling stale cache file /Users/claudiopierard/.julia/lib/v0.5/FixedSizeArrays.ji for module FixedSizeArrays.\n",
      "\u001b[0m\u001b[1m\u001b[34mINFO: Recompiling stale cache file /Users/claudiopierard/.julia/lib/v0.5/PlotUtils.ji for module PlotUtils.\n",
      "\u001b[0m\u001b[1m\u001b[34mINFO: Recompiling stale cache file /Users/claudiopierard/.julia/lib/v0.5/PlotThemes.ji for module PlotThemes.\n",
      "\u001b[0m\u001b[1m\u001b[34mINFO: Recompiling stale cache file /Users/claudiopierard/.julia/lib/v0.5/Showoff.ji for module Showoff.\n",
      "\u001b[0m\u001b[1m\u001b[34mINFO: Recompiling stale cache file /Users/claudiopierard/.julia/lib/v0.5/StatsBase.ji for module StatsBase.\n",
      "\u001b[0m\u001b[1m\u001b[34mINFO: Recompiling stale cache file /Users/claudiopierard/.julia/lib/v0.5/NaNMath.ji for module NaNMath.\n",
      "\u001b[0m\u001b[1m\u001b[34mINFO: Recompiling stale cache file /Users/claudiopierard/.julia/lib/v0.5/Measures.ji for module Measures.\n",
      "\u001b[0m\u001b[1m\u001b[34mINFO: Recompiling stale cache file /Users/claudiopierard/.julia/lib/v0.5/FileIO.ji for module FileIO.\n",
      "\u001b[0m\u001b[1m\u001b[34mINFO: Recompiling stale cache file /Users/claudiopierard/.julia/lib/v0.5/Polynomials.ji for module Polynomials.\n",
      "\u001b[0m\u001b[1m\u001b[34mINFO: Recompiling stale cache file /Users/claudiopierard/.julia/lib/v0.5/PyPlot.ji for module PyPlot.\n",
      "\u001b[0m"
     ]
    },
    {
     "data": {
      "text/plain": [
       "Plots.PyPlotBackend()"
      ]
     },
     "execution_count": 1,
     "metadata": {},
     "output_type": "execute_result"
    }
   ],
   "source": [
    "using Plots, CurveFit\n",
    "pyplot()"
   ]
  },
  {
   "cell_type": "code",
   "execution_count": 2,
   "metadata": {
    "collapsed": false
   },
   "outputs": [
    {
     "data": {
      "text/html": [
       "999.972"
      ],
      "text/plain": [
       "999.972"
      ]
     },
     "execution_count": 2,
     "metadata": {},
     "output_type": "execute_result"
    }
   ],
   "source": [
    "α = 8.1e-6\n",
    "T_0 = 4\n",
    "ρ_0 =999.9720"
   ]
  },
  {
   "cell_type": "code",
   "execution_count": 3,
   "metadata": {
    "collapsed": false
   },
   "outputs": [
    {
     "data": {
      "text/plain": [
       "ρ (generic function with 1 method)"
      ]
     },
     "execution_count": 3,
     "metadata": {},
     "output_type": "execute_result"
    }
   ],
   "source": [
    "ρ(T) = ρ_0 *(1 -  α *(T - T_0)^2)"
   ]
  },
  {
   "cell_type": "code",
   "execution_count": 4,
   "metadata": {
    "collapsed": false
   },
   "outputs": [
    {
     "data": {
      "text/plain": [
       "0.0:0.1:25.0"
      ]
     },
     "execution_count": 4,
     "metadata": {},
     "output_type": "execute_result"
    }
   ],
   "source": [
    "T_range = 0:0.1:25"
   ]
  },
  {
   "cell_type": "code",
   "execution_count": 5,
   "metadata": {
    "collapsed": false
   },
   "outputs": [
    {
     "data": {
      "text/plain": [
       "251-element Array{Float32,1}:\n",
       " 999.842\n",
       " 999.849\n",
       " 999.855\n",
       " 999.861\n",
       " 999.867\n",
       " 999.873\n",
       " 999.878\n",
       " 999.884\n",
       " 999.889\n",
       " 999.894\n",
       " 999.899\n",
       " 999.904\n",
       " 999.909\n",
       "   ⋮    \n",
       " 996.764\n",
       " 996.732\n",
       " 996.7  \n",
       " 996.667\n",
       " 996.634\n",
       " 996.601\n",
       " 996.568\n",
       " 996.535\n",
       " 996.501\n",
       " 996.468\n",
       " 996.434\n",
       " 996.4  "
      ]
     },
     "execution_count": 5,
     "metadata": {},
     "output_type": "execute_result"
    }
   ],
   "source": [
    "ρ_s = Float32[]\n",
    "\n",
    "for θ in T_range\n",
    "    \n",
    "    T_i = ρ(θ)\n",
    "    push!(ρ_s, T_i)\n",
    "    \n",
    "end\n",
    "\n",
    "ρ_s"
   ]
  },
  {
   "cell_type": "code",
   "execution_count": 6,
   "metadata": {
    "collapsed": false
   },
   "outputs": [
    {
     "data": {
      "text/html": [
       "<img src=\"data:image/png;base64,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\" />"
      ]
     },
     "execution_count": 6,
     "metadata": {},
     "output_type": "execute_result"
    }
   ],
   "source": [
    "plot(T_range, ρ_s)"
   ]
  },
  {
   "cell_type": "code",
   "execution_count": 7,
   "metadata": {
    "collapsed": false
   },
   "outputs": [
    {
     "data": {
      "text/plain": [
       "4-element Array{Float64,1}:\n",
       " 0.0 \n",
       " 0.09\n",
       " 0.18\n",
       " 0.35"
      ]
     },
     "execution_count": 7,
     "metadata": {},
     "output_type": "execute_result"
    }
   ],
   "source": [
    "Ts = [0.0, 2.0, 4.0, 25.0]\n",
    "ys = [0.0, 0.09, 0.18, 0.35]"
   ]
  },
  {
   "cell_type": "code",
   "execution_count": 8,
   "metadata": {
    "collapsed": false
   },
   "outputs": [
    {
     "data": {
      "text/plain": [
       "4-element Array{Float64,1}:\n",
       " 0.0 \n",
       " 0.09\n",
       " 0.18\n",
       " 0.35"
      ]
     },
     "execution_count": 8,
     "metadata": {},
     "output_type": "execute_result"
    }
   ],
   "source": [
    "ys"
   ]
  },
  {
   "cell_type": "code",
   "execution_count": 10,
   "metadata": {
    "collapsed": false
   },
   "outputs": [
    {
     "data": {
      "text/plain": [
       "4-element Array{Float64,1}:\n",
       "    0.0   \n",
       "   40.2571\n",
       " -300.582 \n",
       " 1113.27  "
      ]
     },
     "execution_count": 10,
     "metadata": {},
     "output_type": "execute_result"
    }
   ],
   "source": [
    "poly_fit(ys, Ts, 3)"
   ]
  },
  {
   "cell_type": "code",
   "execution_count": 13,
   "metadata": {
    "collapsed": false
   },
   "outputs": [
    {
     "data": {
      "text/html": [
       "40.257128492422666&#8729;x &#45; 300.5817711700071&#8729;x^2 &#43; 1113.2658191481735&#8729;x^3"
      ],
      "text/plain": [
       "Poly(40.257128492422666*x - 300.5817711700071*x^2 + 1113.2658191481735*x^3)"
      ]
     },
     "execution_count": 13,
     "metadata": {},
     "output_type": "execute_result"
    }
   ],
   "source": [
    "fit = curve_fit(Poly ,ys, Ts, 3)"
   ]
  },
  {
   "cell_type": "code",
   "execution_count": 14,
   "metadata": {
    "collapsed": false
   },
   "outputs": [
    {
     "data": {
      "text/plain": [
       "0.0:0.01:0.35"
      ]
     },
     "execution_count": 14,
     "metadata": {},
     "output_type": "execute_result"
    }
   ],
   "source": [
    "y_range = 0:0.01:0.35"
   ]
  },
  {
   "cell_type": "code",
   "execution_count": 15,
   "metadata": {
    "collapsed": false
   },
   "outputs": [
    {
     "data": {
      "text/plain": [
       "36-element Array{Float64,1}:\n",
       "  0.0     \n",
       "  0.373626\n",
       "  0.693816\n",
       "  0.967248\n",
       "  1.2006  \n",
       "  1.40056 \n",
       "  1.5738  \n",
       "  1.727   \n",
       "  1.86684 \n",
       "  2.0     \n",
       "  2.13316 \n",
       "  2.273   \n",
       "  2.4262  \n",
       "  ⋮       \n",
       "  7.73799 \n",
       "  8.6727  \n",
       "  9.71429 \n",
       " 10.8694  \n",
       " 12.1448  \n",
       " 13.5471  \n",
       " 15.083   \n",
       " 16.7591  \n",
       " 18.5822  \n",
       " 20.5589  \n",
       " 22.696   \n",
       " 25.0     "
      ]
     },
     "execution_count": 15,
     "metadata": {},
     "output_type": "execute_result"
    }
   ],
   "source": [
    "fitT = fit(y_range)"
   ]
  },
  {
   "cell_type": "code",
   "execution_count": 16,
   "metadata": {
    "collapsed": false
   },
   "outputs": [
    {
     "data": {
      "text/html": [
       "<img src=\"data:image/png;base64,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\" />"
      ]
     },
     "execution_count": 16,
     "metadata": {},
     "output_type": "execute_result"
    }
   ],
   "source": [
    "scatter(ys, Ts)\n",
    "plot!(y_range, fitT)"
   ]
  },
  {
   "cell_type": "code",
   "execution_count": 8,
   "metadata": {
    "collapsed": false
   },
   "outputs": [
    {
     "data": {
      "text/plain": [
       "2-element Array{Float64,1}:\n",
       "   8.0   \n",
       " -11.4286"
      ]
     },
     "execution_count": 8,
     "metadata": {},
     "output_type": "execute_result"
    }
   ],
   "source": [
    "linear_fit([0.0, 0.35], [8.0, 4.0])"
   ]
  },
  {
   "cell_type": "code",
   "execution_count": null,
   "metadata": {
    "collapsed": true
   },
   "outputs": [],
   "source": []
  }
 ],
 "metadata": {
  "kernelspec": {
   "display_name": "Julia 0.5.1",
   "language": "julia",
   "name": "julia-0.5"
  },
  "language_info": {
   "file_extension": ".jl",
   "mimetype": "application/julia",
   "name": "julia",
   "version": "0.5.1"
  }
 },
 "nbformat": 4,
 "nbformat_minor": 2
}
