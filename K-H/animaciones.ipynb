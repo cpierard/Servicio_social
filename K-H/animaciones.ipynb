{
 "cells": [
  {
   "cell_type": "code",
   "execution_count": 1,
   "metadata": {
    "collapsed": true
   },
   "outputs": [],
   "source": [
    "%matplotlib inline\n",
    "import h5py\n",
    "import numpy as np\n",
    "import matplotlib.pyplot as plt\n",
    "from IPython import display\n",
    "from matplotlib import animation"
   ]
  },
  {
   "cell_type": "markdown",
   "metadata": {},
   "source": [
    "Defino dos mallas `x` y `y` con las dimensiones del arreglo `s` que se quiere graficar usando `pcolormesh`."
   ]
  },
  {
   "cell_type": "code",
   "execution_count": 2,
   "metadata": {
    "collapsed": false
   },
   "outputs": [],
   "source": [
    "dx, dy = 2/192., 1/96.\n",
    "\n",
    "x, y = np.mgrid[slice(0, 2, dx), slice(0, 1, dy)]"
   ]
  },
  {
   "cell_type": "markdown",
   "metadata": {},
   "source": [
    "## Extraer datos"
   ]
  },
  {
   "cell_type": "code",
   "execution_count": 4,
   "metadata": {
    "collapsed": true
   },
   "outputs": [],
   "source": [
    "def extraer_datos(nombre_h5):\n",
    "\n",
    "    with h5py.File(nombre_h5, flag ='r') as hdf:\n",
    "        base_items = list(hdf.items())\n",
    "        print(base_items, '\\n')\n",
    "        tasks = hdf.get('tasks')\n",
    "        tasks_items = list(tasks.items())\n",
    "        print(tasks_items)\n",
    "\n",
    "        s = np.array(tasks.get('s'))\n",
    "        print(s.shape)\n",
    "\n",
    "        s_profile= np.array(tasks.get('s profile'))\n",
    "        print(s_profile.shape)\n",
    "\n",
    "        u = np.array(tasks.get('u'))\n",
    "        print(u.shape)\n",
    "        \n",
    "    return s, s_profile, u"
   ]
  },
  {
   "cell_type": "markdown",
   "metadata": {},
   "source": [
    "## Animación\n",
    "\n",
    "La función `animar_dedalus` crea una animación de los datos extraidos del archivo `HDF5`."
   ]
  },
  {
   "cell_type": "code",
   "execution_count": 5,
   "metadata": {
    "collapsed": true
   },
   "outputs": [],
   "source": [
    "def animar_dedalus(xm, ym, S, CMAP):\n",
    "    fig, axis = plt.subplots(figsize=(10,5))\n",
    "    p = axis.pcolormesh(xm, ym, S[0,:,:], cmap=CMAP)\n",
    "\n",
    "    def init():\n",
    "                print('update init')\n",
    "                p.set_array(np.ravel(S[0,:-1,:-1]))\n",
    "                return p\n",
    "\n",
    "    def update(frame):\n",
    "        p.set_array(np.ravel(S[frame, :-1, :-1]))\n",
    "        return p\n",
    "\n",
    "    anim = animation.FuncAnimation(fig, update, frames= [i for i in range(1,len(S))], init_func=init,  blit = False)\n",
    "    plt.show()\n",
    "    return anim"
   ]
  },
  {
   "cell_type": "markdown",
   "metadata": {},
   "source": [
    "## Primer caso\n",
    "\n",
    "Tomé el ejemplo de la inestabilidad de Kelvin-HelmHoltz que viene en la página de [Dedalus](http://nbviewer.jupyter.org/urls/bitbucket.org/dedalus-project/dedalus/raw/tip/docs/notebooks/KelvinHelmholtzInstability.ipynb), con un perfil de velocidades $u(x,y) = 0.5 \\ tanh \\Big(\\frac{y}{0.05} \\Big)$."
   ]
  },
  {
   "cell_type": "code",
   "execution_count": 17,
   "metadata": {
    "collapsed": false
   },
   "outputs": [
    {
     "name": "stdout",
     "output_type": "stream",
     "text": [
      "[('scales', <HDF5 group \"/scales\" (10 members)>), ('tasks', <HDF5 group \"/tasks\" (3 members)>)] \n",
      "\n",
      "[('s', <HDF5 dataset \"s\": shape (41, 192, 96), type \"<f8\">), ('s profile', <HDF5 dataset \"s profile\": shape (41, 1, 96), type \"<f8\">), ('u', <HDF5 dataset \"u\": shape (41, 192, 96), type \"<f8\">)]\n",
      "(41, 192, 96)\n",
      "(41, 1, 96)\n",
      "(41, 192, 96)\n"
     ]
    }
   ],
   "source": [
    "with h5py.File(\"Ui_tanh/Ui_tanh_s1/Ui_tanh_s1_p0.h5\", flag ='r') as hdf:\n",
    "    base_items = list(hdf.items())\n",
    "    print(base_items, '\\n')\n",
    "    tasks = hdf.get('tasks')\n",
    "    tasks_items = list(tasks.items())\n",
    "    print(tasks_items)\n",
    "    \n",
    "    s_tanh = np.array(tasks.get('s'))\n",
    "    print(s_tanh.shape)\n",
    "    \n",
    "    s_tanh_profile= np.array(tasks.get('s profile'))\n",
    "    print(s_tanh_profile.shape)\n",
    "    \n",
    "    u_tanh = np.array(tasks.get('u'))\n",
    "    print(u_tanh.shape)"
   ]
  },
  {
   "cell_type": "code",
   "execution_count": 31,
   "metadata": {
    "collapsed": false
   },
   "outputs": [
    {
     "data": {
      "text/plain": [
       "<matplotlib.text.Text at 0x1084021d0>"
      ]
     },
     "execution_count": 31,
     "metadata": {},
     "output_type": "execute_result"
    },
    {
     "data": {
      "image/png": "[encoded data removed]",
      "text/plain": [
       "<matplotlib.figure.Figure at 0x1069d22e8>"
      ]
     },
     "metadata": {},
     "output_type": "display_data"
    }
   ],
   "source": [
    "plt.figure(figsize=(8,5))\n",
    "plt.plot(u_tanh[0, 96, :], range(0,96))\n",
    "plt.ylim(0,96)\n",
    "plt.xlabel('$u$')\n",
    "plt.ylabel('$y$')"
   ]
  },
  {
   "cell_type": "code",
   "execution_count": 34,
   "metadata": {
    "collapsed": false
   },
   "outputs": [
    {
     "name": "stdout",
     "output_type": "stream",
     "text": [
      "update init\n"
     ]
    },
    {
     "data": {
      "image/png": "[encoded data removed]",
      "text/plain": [
       "<matplotlib.figure.Figure at 0x108f5da20>"
      ]
     },
     "metadata": {},
     "output_type": "display_data"
    },
    {
     "name": "stdout",
     "output_type": "stream",
     "text": [
      "update init\n"
     ]
    }
   ],
   "source": [
    "anima_tanh = animar_dedalus(x, y, s_tanh, 'seismic')\n",
    "mywriter = animation.FFMpegWriter()\n",
    "anima_tanh.save('K-H_ui_tanh.mp4',writer=mywriter, fps=30)"
   ]
  },
  {
   "cell_type": "markdown",
   "metadata": {},
   "source": [
    "## Segundo caso"
   ]
  },
  {
   "cell_type": "code",
   "execution_count": 37,
   "metadata": {
    "collapsed": false
   },
   "outputs": [
    {
     "name": "stdout",
     "output_type": "stream",
     "text": [
      "[('scales', <HDF5 group \"/scales\" (10 members)>), ('tasks', <HDF5 group \"/tasks\" (3 members)>)] \n",
      "\n",
      "[('s', <HDF5 dataset \"s\": shape (41, 192, 96), type \"<f8\">), ('s profile', <HDF5 dataset \"s profile\": shape (41, 1, 96), type \"<f8\">), ('u', <HDF5 dataset \"u\": shape (41, 192, 96), type \"<f8\">)]\n",
      "(41, 192, 96)\n",
      "(41, 1, 96)\n",
      "(41, 192, 96)\n"
     ]
    }
   ],
   "source": [
    "s_punta, s_punta_prof, u_punta = extraer_datos('Ui_punta/Ui_punta_s1/Ui_punta_s1_p0.h5')"
   ]
  },
  {
   "cell_type": "code",
   "execution_count": 45,
   "metadata": {
    "collapsed": false
   },
   "outputs": [
    {
     "data": {
      "text/plain": [
       "<matplotlib.text.Text at 0x10948a7f0>"
      ]
     },
     "execution_count": 45,
     "metadata": {},
     "output_type": "execute_result"
    },
    {
     "data": {
      "image/png": "[encoded data removed]",
      "text/plain": [
       "<matplotlib.figure.Figure at 0x108f3f7f0>"
      ]
     },
     "metadata": {},
     "output_type": "display_data"
    }
   ],
   "source": [
    "plt.figure(figsize=(8,5))\n",
    "plt.plot(u_punta[0, 96, :], range(0,96))\n",
    "plt.ylim(0,96)\n",
    "plt.xlabel('$u$')\n",
    "plt.ylabel('$y$')"
   ]
  },
  {
   "cell_type": "code",
   "execution_count": 40,
   "metadata": {
    "collapsed": false
   },
   "outputs": [
    {
     "name": "stdout",
     "output_type": "stream",
     "text": [
      "update init\n"
     ]
    },
    {
     "data": {
      "image/png": "[encoded data removed]",
      "text/plain": [
       "<matplotlib.figure.Figure at 0x10c0e6da0>"
      ]
     },
     "metadata": {},
     "output_type": "display_data"
    },
    {
     "name": "stdout",
     "output_type": "stream",
     "text": [
      "update init\n"
     ]
    }
   ],
   "source": [
    "anima_punta = animar_dedalus(x, y, s_punta, 'Spectral')\n",
    "mywriter = animation.FFMpegWriter()\n",
    "anima_punta.save('K-H_ui_punta.mp4',writer=mywriter, fps=30)"
   ]
  },
  {
   "cell_type": "markdown",
   "metadata": {},
   "source": [
    "## Tercer caso"
   ]
  },
  {
   "cell_type": "code",
   "execution_count": 9,
   "metadata": {
    "collapsed": false
   },
   "outputs": [
    {
     "data": {
      "text/plain": [
       "array([[ 0.        ,  0.00520833,  0.01041667, ..., -0.0078125 ,\n",
       "        -0.00520833, -0.00260417],\n",
       "       [ 0.        ,  0.00520833,  0.01041667, ..., -0.0078125 ,\n",
       "        -0.00520833, -0.00260417],\n",
       "       [ 0.        ,  0.00520833,  0.01041667, ..., -0.0078125 ,\n",
       "        -0.00520833, -0.00260417],\n",
       "       ..., \n",
       "       [ 0.        ,  0.00520833,  0.01041667, ..., -0.0078125 ,\n",
       "        -0.00520833, -0.00260417],\n",
       "       [ 0.        ,  0.00520833,  0.01041667, ..., -0.0078125 ,\n",
       "        -0.00520833, -0.00260417],\n",
       "       [ 0.        ,  0.00520833,  0.01041667, ..., -0.0078125 ,\n",
       "        -0.00520833, -0.00260417]])"
      ]
     },
     "execution_count": 9,
     "metadata": {},
     "output_type": "execute_result"
    }
   ],
   "source": [
    "u_prueba = np.zeros_like(y)\n",
    "\n",
    "for i in range(0, 192):\n",
    "    for j in range(0, 96):\n",
    "        \n",
    "        if j < 48:\n",
    "            u_prueba[i, j] = y[i, j] * 0.5\n",
    "        \n",
    "        elif j >= 48:\n",
    "            u_prueba[i,j] =  y[i,j] *0.5/2 - y[i, 48] *0.5\n",
    "     \n",
    "\n",
    "u_prueba"
   ]
  },
  {
   "cell_type": "code",
   "execution_count": 10,
   "metadata": {
    "collapsed": false
   },
   "outputs": [
    {
     "data": {
      "text/plain": [
       "<matplotlib.text.Text at 0x1067af470>"
      ]
     },
     "execution_count": 10,
     "metadata": {},
     "output_type": "execute_result"
    },
    {
     "data": {
      "image/png": "[encoded data removed]",
      "text/plain": [
       "<matplotlib.figure.Figure at 0x10470edd8>"
      ]
     },
     "metadata": {},
     "output_type": "display_data"
    }
   ],
   "source": [
    "plt.plot(u_prueba[20,:], y[1,:])\n",
    "plt.plot(np.zeros(96), y[1,:], \"--\")\n",
    "plt.xlabel('$u$')\n",
    "plt.ylabel('$y$')"
   ]
  },
  {
   "cell_type": "code",
   "execution_count": 132,
   "metadata": {
    "collapsed": false
   },
   "outputs": [
    {
     "name": "stdout",
     "output_type": "stream",
     "text": [
      "[('scales', <HDF5 group \"/scales\" (10 members)>), ('tasks', <HDF5 group \"/tasks\" (3 members)>)] \n",
      "\n",
      "[('s', <HDF5 dataset \"s\": shape (41, 192, 96), type \"<f8\">), ('s profile', <HDF5 dataset \"s profile\": shape (41, 1, 96), type \"<f8\">), ('u', <HDF5 dataset \"u\": shape (41, 192, 96), type \"<f8\">)]\n",
      "(41, 192, 96)\n",
      "(41, 1, 96)\n",
      "(41, 192, 96)\n"
     ]
    }
   ],
   "source": [
    "s_hs, s_hs_prof, u_hs = extraer_datos('Ui_half_shear/Ui_half_shear_s1/Ui_half_shear_s1_p0.h5')"
   ]
  },
  {
   "cell_type": "code",
   "execution_count": 133,
   "metadata": {
    "collapsed": false
   },
   "outputs": [
    {
     "data": {
      "text/plain": [
       "<matplotlib.text.Text at 0x10e61a0f0>"
      ]
     },
     "execution_count": 133,
     "metadata": {},
     "output_type": "execute_result"
    },
    {
     "data": {
      "image/png": "[encoded data removed]",
      "text/plain": [
       "<matplotlib.figure.Figure at 0x10e30f5f8>"
      ]
     },
     "metadata": {},
     "output_type": "display_data"
    }
   ],
   "source": [
    "plt.figure(figsize=(8,5))\n",
    "plt.plot(u_hs[0, 96, :], range(0,96))\n",
    "plt.ylim(0,96)\n",
    "plt.xlabel('$u$')\n",
    "plt.ylabel('$y$')"
   ]
  },
  {
   "cell_type": "code",
   "execution_count": 134,
   "metadata": {
    "collapsed": false
   },
   "outputs": [
    {
     "name": "stdout",
     "output_type": "stream",
     "text": [
      "update init\n"
     ]
    },
    {
     "data": {
      "image/png": "[encoded data removed]",
      "text/plain": [
       "<matplotlib.figure.Figure at 0x10f9abcc0>"
      ]
     },
     "metadata": {},
     "output_type": "display_data"
    },
    {
     "name": "stdout",
     "output_type": "stream",
     "text": [
      "update init\n"
     ]
    }
   ],
   "source": [
    "anima_punta = animar_dedalus(x, y, s_hs, 'RdYlGn')\n",
    "mywriter = animation.FFMpegWriter()\n",
    "anima_punta.save('K-H_ui_sh.mp4',writer=mywriter, fps=30)"
   ]
  },
  {
   "cell_type": "markdown",
   "metadata": {},
   "source": [
    "## Cuarto caso"
   ]
  },
  {
   "cell_type": "code",
   "execution_count": 135,
   "metadata": {
    "collapsed": false
   },
   "outputs": [
    {
     "name": "stdout",
     "output_type": "stream",
     "text": [
      "[('scales', <HDF5 group \"/scales\" (10 members)>), ('tasks', <HDF5 group \"/tasks\" (3 members)>)] \n",
      "\n",
      "[('s', <HDF5 dataset \"s\": shape (25, 192, 96), type \"<f8\">), ('s profile', <HDF5 dataset \"s profile\": shape (25, 1, 96), type \"<f8\">), ('u', <HDF5 dataset \"u\": shape (25, 192, 96), type \"<f8\">)]\n",
      "(25, 192, 96)\n",
      "(25, 1, 96)\n",
      "(25, 192, 96)\n"
     ]
    }
   ],
   "source": [
    "s_hiperbola, s_hiperbola_prof, u_hiperbola = extraer_datos('Ui_hiperbola/Ui_hiperbola_s1/Ui_hiperbola_s1_p0.h5')"
   ]
  },
  {
   "cell_type": "code",
   "execution_count": 138,
   "metadata": {
    "collapsed": false
   },
   "outputs": [
    {
     "data": {
      "text/plain": [
       "<matplotlib.text.Text at 0x110649438>"
      ]
     },
     "execution_count": 138,
     "metadata": {},
     "output_type": "execute_result"
    },
    {
     "data": {
      "image/png": "[encoded data removed]",
      "text/plain": [
       "<matplotlib.figure.Figure at 0x110621208>"
      ]
     },
     "metadata": {},
     "output_type": "display_data"
    }
   ],
   "source": [
    "plt.figure(figsize=(8,5))\n",
    "plt.plot(u_hiperbola[0, 96, :], range(0,96))\n",
    "plt.ylim(0,96)\n",
    "plt.xlabel('$u$')\n",
    "plt.ylabel('$y$')"
   ]
  },
  {
   "cell_type": "code",
   "execution_count": 139,
   "metadata": {
    "collapsed": false
   },
   "outputs": [
    {
     "name": "stdout",
     "output_type": "stream",
     "text": [
      "update init\n"
     ]
    },
    {
     "data": {
      "image/png": "[encoded data removed]",
      "text/plain": [
       "<matplotlib.figure.Figure at 0x110692978>"
      ]
     },
     "metadata": {},
     "output_type": "display_data"
    },
    {
     "name": "stdout",
     "output_type": "stream",
     "text": [
      "update init\n"
     ]
    }
   ],
   "source": [
    "anima_punta = animar_dedalus(x, y, s_hiperbola, 'bwr')\n",
    "mywriter = animation.FFMpegWriter()\n",
    "anima_punta.save('K-H_ui_hiperbola.mp4',writer=mywriter, fps=30)"
   ]
  },
  {
   "cell_type": "markdown",
   "metadata": {},
   "source": [
    "## Quinto caso"
   ]
  },
  {
   "cell_type": "code",
   "execution_count": 140,
   "metadata": {
    "collapsed": false
   },
   "outputs": [
    {
     "name": "stdout",
     "output_type": "stream",
     "text": [
      "[('scales', <HDF5 group \"/scales\" (10 members)>), ('tasks', <HDF5 group \"/tasks\" (3 members)>)] \n",
      "\n",
      "[('s', <HDF5 dataset \"s\": shape (37, 192, 96), type \"<f8\">), ('s profile', <HDF5 dataset \"s profile\": shape (37, 1, 96), type \"<f8\">), ('u', <HDF5 dataset \"u\": shape (37, 192, 96), type \"<f8\">)]\n",
      "(37, 192, 96)\n",
      "(37, 1, 96)\n",
      "(37, 192, 96)\n"
     ]
    }
   ],
   "source": [
    "s_abs_hip, s_abs_hip_prof, u_abs_hip = extraer_datos('Ui_abs_hiperb/Ui_abs_hiperb_s1/Ui_abs_hiperb_s1_p0.h5')"
   ]
  },
  {
   "cell_type": "code",
   "execution_count": 141,
   "metadata": {
    "collapsed": false
   },
   "outputs": [
    {
     "data": {
      "text/plain": [
       "<matplotlib.text.Text at 0x1110eaa20>"
      ]
     },
     "execution_count": 141,
     "metadata": {},
     "output_type": "execute_result"
    },
    {
     "data": {
      "image/png": "[encoded data removed]",
      "text/plain": [
       "<matplotlib.figure.Figure at 0x1106ad6d8>"
      ]
     },
     "metadata": {},
     "output_type": "display_data"
    }
   ],
   "source": [
    "plt.figure(figsize=(8,5))\n",
    "plt.plot(u_abs_hip[0, 96, :], range(0,96))\n",
    "plt.ylim(0,96)\n",
    "plt.xlabel('$u$')\n",
    "plt.ylabel('$y$')"
   ]
  },
  {
   "cell_type": "code",
   "execution_count": 142,
   "metadata": {
    "collapsed": false
   },
   "outputs": [
    {
     "name": "stdout",
     "output_type": "stream",
     "text": [
      "update init\n"
     ]
    },
    {
     "data": {
      "image/png": "[encoded data removed]",
      "text/plain": [
       "<matplotlib.figure.Figure at 0x1112330f0>"
      ]
     },
     "metadata": {},
     "output_type": "display_data"
    },
    {
     "name": "stdout",
     "output_type": "stream",
     "text": [
      "update init\n"
     ]
    }
   ],
   "source": [
    "anima_punta = animar_dedalus(x, y, s_abs_hip, 'bwr')\n",
    "mywriter = animation.FFMpegWriter()\n",
    "anima_punta.save('K-H_ui_abshiper.mp4',writer=mywriter, fps=30)"
   ]
  }
 ],
 "metadata": {
  "kernelspec": {
   "display_name": "Python 3",
   "language": "python",
   "name": "python3"
  },
  "language_info": {
   "codemirror_mode": {
    "name": "ipython",
    "version": 3
   },
   "file_extension": ".py",
   "mimetype": "text/x-python",
   "name": "python",
   "nbconvert_exporter": "python",
   "pygments_lexer": "ipython3",
   "version": "3.5.0"
  }
 },
 "nbformat": 4,
 "nbformat_minor": 2
}
