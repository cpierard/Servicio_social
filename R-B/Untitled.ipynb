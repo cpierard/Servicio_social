{
 "cells": [
  {
   "cell_type": "code",
   "execution_count": 13,
   "metadata": {
    "collapsed": false
   },
   "outputs": [
    {
     "data": {
      "text/plain": [
       "8.1e-6"
      ]
     },
     "execution_count": 13,
     "metadata": {},
     "output_type": "execute_result"
    }
   ],
   "source": [
    "ρ0 = 999.9720\n",
    "T0 = 4.0\n",
    "α = 8.1e-6"
   ]
  },
  {
   "cell_type": "code",
   "execution_count": 14,
   "metadata": {
    "collapsed": false
   },
   "outputs": [
    {
     "name": "stderr",
     "output_type": "stream",
     "text": [
      "WARNING: Method definition ρ(Any) in module Main at In[5]:1 overwritten at In[14]:1.\n"
     ]
    },
    {
     "data": {
      "text/plain": [
       "ρ (generic function with 1 method)"
      ]
     },
     "execution_count": 14,
     "metadata": {},
     "output_type": "execute_result"
    }
   ],
   "source": [
    "ρ(T) = ρ0 - ρ0*α*(T - T0)"
   ]
  },
  {
   "cell_type": "code",
   "execution_count": 17,
   "metadata": {
    "collapsed": false
   },
   "outputs": [
    {
     "data": {
      "text/plain": [
       "5×5 Array{Float64,2}:\n",
       " 4.83261  4.7003   4.55443  4.98498  4.82158\n",
       " 4.6693   4.34966  4.0373   4.91591  4.10423\n",
       " 4.04715  4.50036  4.66378  4.97716  4.19938\n",
       " 4.55027  4.00986  4.16148  4.16934  4.60422\n",
       " 4.70601  4.86246  4.54723  4.21487  4.54525"
      ]
     },
     "execution_count": 17,
     "metadata": {},
     "output_type": "execute_result"
    }
   ],
   "source": [
    "a = zeros(5,5) + rand(5,5) + 4"
   ]
  },
  {
   "cell_type": "code",
   "execution_count": 18,
   "metadata": {
    "collapsed": false
   },
   "outputs": [
    {
     "data": {
      "text/plain": [
       "5×5 Array{Float64,2}:\n",
       " 999.965  999.966  999.968  999.964  999.965\n",
       " 999.967  999.969  999.972  999.965  999.971\n",
       " 999.972  999.968  999.967  999.964  999.97 \n",
       " 999.968  999.972  999.971  999.971  999.967\n",
       " 999.966  999.965  999.968  999.97   999.968"
      ]
     },
     "execution_count": 18,
     "metadata": {},
     "output_type": "execute_result"
    }
   ],
   "source": [
    "ρ(a)"
   ]
  },
  {
   "cell_type": "code",
   "execution_count": null,
   "metadata": {
    "collapsed": true
   },
   "outputs": [],
   "source": []
  }
 ],
 "metadata": {
  "kernelspec": {
   "display_name": "Julia 0.5.1",
   "language": "julia",
   "name": "julia-0.5"
  },
  "language_info": {
   "file_extension": ".jl",
   "mimetype": "application/julia",
   "name": "julia",
   "version": "0.5.1"
  }
 },
 "nbformat": 4,
 "nbformat_minor": 2
}
