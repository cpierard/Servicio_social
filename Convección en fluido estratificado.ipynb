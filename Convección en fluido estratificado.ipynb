{
 "cells": [
  {
   "cell_type": "code",
   "execution_count": 1,
   "metadata": {
    "collapsed": true
   },
   "outputs": [],
   "source": [
    "%matplotlib inline"
   ]
  },
  {
   "cell_type": "code",
   "execution_count": 2,
   "metadata": {
    "collapsed": false
   },
   "outputs": [],
   "source": [
    "import numpy as np\n",
    "import matplotlib.pyplot as plt\n",
    "import h5py \n",
    "from dedalus import public as de\n",
    "from dedalus.extras import flow_tools\n",
    "import time\n",
    "from IPython import display\n",
    "from matplotlib import animation\n",
    "import matplotlib.colors as colors\n",
    "from matplotlib.mlab import bivariate_normal"
   ]
  },
  {
   "cell_type": "code",
   "execution_count": 3,
   "metadata": {
    "collapsed": true
   },
   "outputs": [],
   "source": [
    "import logging\n",
    "root = logging.root\n",
    "for h in root.handlers:\n",
    "    h.setLevel(\"INFO\")\n",
    "    \n",
    "logger = logging.getLogger(__name__)"
   ]
  },
  {
   "cell_type": "markdown",
   "metadata": {},
   "source": [
    "## Dominio del problema"
   ]
  },
  {
   "cell_type": "markdown",
   "metadata": {},
   "source": [
    "##### Cambios hechos\n",
    "- El perfil de temperaturas va a ser constante, es decir se va a manter en `T0 = 20` en todo el dominio.\n",
    "- Se cambia la ecuación de estado del agua por $$\\rho = \\rho_0 - \\alpha(T-T_0) + \\beta(S - S_0)$$\n",
    "- \n",
    "    - Expansión térmica: $\\alpha = 0.15 kg/(m^3 ºC)$\n",
    "    - Salinity contraction: $\\beta = 0.78 kg/(m^3 \\ 1/1000)$\n",
    "    "
   ]
  },
  {
   "cell_type": "code",
   "execution_count": 4,
   "metadata": {
    "collapsed": false
   },
   "outputs": [],
   "source": [
    "Lx, Ly = (0.2, 0.35)\n",
    "nx, ny = (256, 256)\n",
    "#Prandtl = 1.\n",
    "#Rayleigh = 5.8e7\n",
    "\n",
    "ν = 1.8e-6 # m^2/s viscocidad cinemática\n",
    "k = 2e-5 # s^-1 \n",
    "T0 = 20.0 # ºC Promedio de las temperaturas iniciales\n",
    "T_b = 22.0 #Bottom temperature ºC\n",
    "g = 9.8 #  m/s^2\n",
    "κ = 1.3e-7 #thermal difussivity m^2/s\n",
    "ρ0 = 1007.5 # kg/m^3 promedio de las densidades iniciales\n",
    "α = 0.15 # kg/m^3ºC thermal expansion\n",
    "β = 0.78 # kg/m^3%0 salinity contraction\n",
    "s_top = 13.54 # 0. #salinidad top (partes por mil)\n",
    "s_bot = 13.54 #salinidad bottom (partes por mil)\n",
    "s0 = 13.54 #9.375\n",
    "\n",
    "T_air = 18. # ºC temperatura de aire.\n",
    "T_top = 20.0\n",
    "z_int = 0.18\n",
    "L_conv = 0.35\n",
    "Reynolds = 100\n",
    "Schmidt = 1\n",
    "\n",
    "x_basis = de.Fourier('x', nx, interval=(0, Lx))\n",
    "y_basis = de.Chebyshev('y', ny, interval=(0, Ly))\n",
    "domain = de.Domain([x_basis, y_basis], grid_dtype=np.float64)"
   ]
  },
  {
   "cell_type": "markdown",
   "metadata": {},
   "source": [
    "## Ecuaciones"
   ]
  },
  {
   "cell_type": "code",
   "execution_count": 5,
   "metadata": {
    "collapsed": true
   },
   "outputs": [],
   "source": [
    "problem = de.IVP(domain, variables=['p', 'u', 'v', 'ρ', 's', 'T', 'uy', 'vy', 'Ty', 'sy'])"
   ]
  },
  {
   "cell_type": "code",
   "execution_count": 6,
   "metadata": {
    "collapsed": false
   },
   "outputs": [],
   "source": [
    "problem.meta['p', 'T', 'u', 'v', 'ρ', 's']['y']['dirichlet'] = True"
   ]
  },
  {
   "cell_type": "code",
   "execution_count": 7,
   "metadata": {
    "collapsed": false
   },
   "outputs": [],
   "source": [
    "#problem.parameters['P'] = (Rayleigh * Prandtl)**(-1/2)\n",
    "#problem.parameters['R'] = (Rayleigh / Prandtl)**(-1/2)\n",
    "#problem.parameters['F'] = F = 1\n",
    "problem.parameters['ν'] = ν\n",
    "problem.parameters['κ'] = κ\n",
    "problem.parameters['T_air'] = T_air\n",
    "problem.parameters['k'] = k \n",
    "problem.parameters['ρ0'] = ρ0\n",
    "problem.parameters['T_0'] = T0 #4.0 ºC\n",
    "problem.parameters['g'] = 9.8\n",
    "problem.parameters['α'] = α\n",
    "problem.parameters['β'] = β\n",
    "problem.parameters['T_b'] = T_b\n",
    "problem.parameters['T_top'] = T_top\n",
    "problem.parameters['s0'] = s0\n",
    "problem.parameters['s_top'] = s_top\n",
    "problem.parameters['s_bot'] = s_bot\n",
    "\n",
    "problem.parameters['Re'] = Reynolds\n",
    "problem.parameters['Sc'] = Schmidt\n",
    "\n",
    "problem.add_equation(\"dx(u) + vy = 0\") #continuidad\n",
    "problem.add_equation(\"dt(u) - ν*(dx(dx(u)) + dy(uy)) + dx(p) = -(u*dx(u) + v*uy)\") #N-S x\n",
    "problem.add_equation(\"dt(v) - ν*(dx(dx(v)) + dy(vy)) + dy(p) = -(u*dx(v) + v*vy) + g*(ρ - ρ0)/ρ0\") #N-S y\n",
    "problem.add_equation(\"dt(T) - κ*(dx(dx(T)) + dy(Ty)) = - u*dx(T) - v*Ty - k*(T - T_air)\") #conservación energía\n",
    "problem.add_equation(\"ρ = ρ0 - α*(T - T_0) + β*(s - s0)\") #ecuación de estado\n",
    "problem.add_equation(\"dt(s) - 1/(Re*Sc)*(dx(dx(s)) + dy(sy)) = - u*dx(s) - v*sy\") #ecuación para salinidad\n",
    "\n",
    "problem.add_equation(\"Ty - dy(T) = 0\")\n",
    "problem.add_equation(\"uy - dy(u) = 0\")\n",
    "problem.add_equation(\"vy - dy(v) = 0\")\n",
    "problem.add_equation(\"sy - dy(s) = 0\")\n",
    "\n",
    "problem.add_bc(\"left(T) = T_b\")\n",
    "problem.add_bc(\"right(T) = T_top\")\n",
    "problem.add_bc(\"left(u) = 0\")\n",
    "problem.add_bc(\"left(v) = 0\")\n",
    "problem.add_bc(\"left(s) = s_bot\")\n",
    "problem.add_bc(\"right(v) = s_top\")\n",
    "problem.add_bc(\"right(u) = 0\")\n",
    "problem.add_bc(\"right(v) = 0\", condition=\"(nx != 0)\")\n",
    "problem.add_bc(\"right(p) = 0\", condition=\"(nx == 0)\")"
   ]
  },
  {
   "cell_type": "markdown",
   "metadata": {
    "collapsed": true
   },
   "source": [
    "## Condiciones de frontera"
   ]
  },
  {
   "cell_type": "code",
   "execution_count": 8,
   "metadata": {
    "collapsed": false
   },
   "outputs": [
    {
     "name": "stdout",
     "output_type": "stream",
     "text": [
      "2017-09-03 13:56:46,865 pencil 0/1 INFO :: Building pencil matrix 1/128 (~1%) Elapsed: 0s, Remaining: 8s, Rate: 1.6e+01/s\n",
      "2017-09-03 13:56:47,513 pencil 0/1 INFO :: Building pencil matrix 13/128 (~10%) Elapsed: 1s, Remaining: 6s, Rate: 1.8e+01/s\n",
      "2017-09-03 13:56:48,264 pencil 0/1 INFO :: Building pencil matrix 26/128 (~20%) Elapsed: 1s, Remaining: 6s, Rate: 1.8e+01/s\n",
      "2017-09-03 13:56:49,020 pencil 0/1 INFO :: Building pencil matrix 39/128 (~30%) Elapsed: 2s, Remaining: 5s, Rate: 1.8e+01/s\n",
      "2017-09-03 13:56:49,797 pencil 0/1 INFO :: Building pencil matrix 52/128 (~41%) Elapsed: 3s, Remaining: 4s, Rate: 1.7e+01/s\n",
      "2017-09-03 13:56:50,534 pencil 0/1 INFO :: Building pencil matrix 65/128 (~51%) Elapsed: 4s, Remaining: 4s, Rate: 1.7e+01/s\n",
      "2017-09-03 13:56:51,295 pencil 0/1 INFO :: Building pencil matrix 78/128 (~61%) Elapsed: 4s, Remaining: 3s, Rate: 1.7e+01/s\n",
      "2017-09-03 13:56:52,041 pencil 0/1 INFO :: Building pencil matrix 91/128 (~71%) Elapsed: 5s, Remaining: 2s, Rate: 1.7e+01/s\n",
      "2017-09-03 13:56:52,772 pencil 0/1 INFO :: Building pencil matrix 104/128 (~81%) Elapsed: 6s, Remaining: 1s, Rate: 1.7e+01/s\n",
      "2017-09-03 13:56:53,505 pencil 0/1 INFO :: Building pencil matrix 117/128 (~91%) Elapsed: 7s, Remaining: 1s, Rate: 1.7e+01/s\n",
      "2017-09-03 13:56:54,106 pencil 0/1 INFO :: Building pencil matrix 128/128 (~100%) Elapsed: 7s, Remaining: 0s, Rate: 1.8e+01/s\n"
     ]
    }
   ],
   "source": [
    "solver = problem.build_solver(de.timesteppers.RK222)"
   ]
  },
  {
   "cell_type": "markdown",
   "metadata": {},
   "source": [
    "## Condiciones iniciales"
   ]
  },
  {
   "cell_type": "code",
   "execution_count": 9,
   "metadata": {
    "collapsed": false
   },
   "outputs": [],
   "source": [
    "x = domain.grid(0)\n",
    "y = domain.grid(1)\n",
    "T = solver.state['T']\n",
    "Ty = solver.state['Ty']\n",
    "ρ = solver.state['ρ']\n",
    "s = solver.state['s']"
   ]
  },
  {
   "cell_type": "markdown",
   "metadata": {},
   "source": [
    "#### Perfil de temepratura lineal"
   ]
  },
  {
   "cell_type": "code",
   "execution_count": 10,
   "metadata": {
    "collapsed": false
   },
   "outputs": [],
   "source": [
    "yb, yt = y_basis.interval"
   ]
  },
  {
   "cell_type": "code",
   "execution_count": 11,
   "metadata": {
    "collapsed": false
   },
   "outputs": [
    {
     "data": {
      "text/plain": [
       "0.35"
      ]
     },
     "execution_count": 11,
     "metadata": {},
     "output_type": "execute_result"
    }
   ],
   "source": [
    "yt"
   ]
  },
  {
   "cell_type": "code",
   "execution_count": 12,
   "metadata": {
    "collapsed": false
   },
   "outputs": [],
   "source": [
    "x = domain.grid(0,scales=domain.dealias)\n",
    "y = domain.grid(1,scales=domain.dealias)\n",
    "xm, ym = np.meshgrid(x,y)"
   ]
  },
  {
   "cell_type": "code",
   "execution_count": 13,
   "metadata": {
    "collapsed": false
   },
   "outputs": [
    {
     "data": {
      "text/plain": [
       "(1, 256)"
      ]
     },
     "execution_count": 13,
     "metadata": {},
     "output_type": "execute_result"
    }
   ],
   "source": [
    "y.shape"
   ]
  },
  {
   "cell_type": "code",
   "execution_count": 14,
   "metadata": {
    "collapsed": false
   },
   "outputs": [
    {
     "data": {
      "text/plain": [
       "(256, 256)"
      ]
     },
     "execution_count": 14,
     "metadata": {},
     "output_type": "execute_result"
    }
   ],
   "source": [
    "T['g'].shape"
   ]
  },
  {
   "cell_type": "code",
   "execution_count": 15,
   "metadata": {
    "collapsed": true
   },
   "outputs": [],
   "source": [
    "T['g'] = np.zeros_like(y) + 20."
   ]
  },
  {
   "cell_type": "code",
   "execution_count": 16,
   "metadata": {
    "collapsed": false
   },
   "outputs": [
    {
     "data": {
      "text/plain": [
       "<matplotlib.text.Text at 0x109c5a080>"
      ]
     },
     "execution_count": 16,
     "metadata": {},
     "output_type": "execute_result"
    },
    {
     "data": {
      "image/png": "[encoded data removed]",
      "text/plain": [
       "<matplotlib.figure.Figure at 0x109c3a4a8>"
      ]
     },
     "metadata": {},
     "output_type": "display_data"
    }
   ],
   "source": [
    "fig, axis = plt.subplots(figsize=(4,7))\n",
    "pT = axis.pcolormesh(xm, ym, T['g'].T, cmap='rainbow');\n",
    "plt.colorbar(pT)\n",
    "plt.title('Temperature')\n",
    "plt.xlabel('x')\n",
    "plt.ylabel('y')"
   ]
  },
  {
   "cell_type": "code",
   "execution_count": 17,
   "metadata": {
    "collapsed": false
   },
   "outputs": [
    {
     "data": {
      "text/plain": [
       "(1, 256)"
      ]
     },
     "execution_count": 17,
     "metadata": {},
     "output_type": "execute_result"
    }
   ],
   "source": [
    "y.shape"
   ]
  },
  {
   "cell_type": "code",
   "execution_count": 18,
   "metadata": {
    "collapsed": false
   },
   "outputs": [
    {
     "data": {
      "text/plain": [
       "(256, 256)"
      ]
     },
     "execution_count": 18,
     "metadata": {},
     "output_type": "execute_result"
    }
   ],
   "source": [
    "ρ['g'].shape"
   ]
  },
  {
   "cell_type": "code",
   "execution_count": 19,
   "metadata": {
    "collapsed": true
   },
   "outputs": [],
   "source": [
    "#ρ['g'] = 1010.009 + -0.009 * np.exp(20 * y)\n",
    "ρ['g'] = ρ0"
   ]
  },
  {
   "cell_type": "code",
   "execution_count": 20,
   "metadata": {
    "collapsed": false
   },
   "outputs": [
    {
     "data": {
      "text/plain": [
       "256"
      ]
     },
     "execution_count": 20,
     "metadata": {},
     "output_type": "execute_result"
    }
   ],
   "source": [
    "len(np.zeros(256))"
   ]
  },
  {
   "cell_type": "code",
   "execution_count": 21,
   "metadata": {
    "collapsed": false
   },
   "outputs": [],
   "source": [
    "#ρ['g'] = np.zeros_like(ρ['g'])"
   ]
  },
  {
   "cell_type": "code",
   "execution_count": 22,
   "metadata": {
    "collapsed": true
   },
   "outputs": [],
   "source": [
    "#ρ['g'] = -58.82352941176471 * (y - 0.18) + 1010"
   ]
  },
  {
   "cell_type": "code",
   "execution_count": 23,
   "metadata": {
    "collapsed": true
   },
   "outputs": [],
   "source": [
    "#for i in range(0, 256):\n",
    " #   if y[0][i] < 0.18:\n",
    " #       ρ['g'][:, i] = np.zeros(256) + 1010. + np.random.rand(256)*0.1\n",
    "        "
   ]
  },
  {
   "cell_type": "code",
   "execution_count": 24,
   "metadata": {
    "collapsed": false
   },
   "outputs": [
    {
     "data": {
      "text/plain": [
       "<matplotlib.text.Text at 0x115eb4e80>"
      ]
     },
     "execution_count": 24,
     "metadata": {},
     "output_type": "execute_result"
    },
    {
     "data": {
      "image/png": "[encoded data removed]",
      "text/plain": [
       "<matplotlib.figure.Figure at 0x1125074e0>"
      ]
     },
     "metadata": {},
     "output_type": "display_data"
    }
   ],
   "source": [
    "fig, axis = plt.subplots(figsize=(4,7))\n",
    "pT = axis.pcolormesh(xm, ym, ρ['g'].T,  cmap='rainbow_r');\n",
    "plt.colorbar(pT)\n",
    "plt.title('Densidad')\n",
    "plt.xlabel('x')\n",
    "plt.ylabel('y')"
   ]
  },
  {
   "cell_type": "code",
   "execution_count": 25,
   "metadata": {
    "collapsed": false
   },
   "outputs": [
    {
     "data": {
      "text/plain": [
       "[<matplotlib.lines.Line2D at 0x116baa5c0>]"
      ]
     },
     "execution_count": 25,
     "metadata": {},
     "output_type": "execute_result"
    },
    {
     "data": {
      "image/png": "[encoded data removed]",
      "text/plain": [
       "<matplotlib.figure.Figure at 0x10e39bb00>"
      ]
     },
     "metadata": {},
     "output_type": "display_data"
    }
   ],
   "source": [
    "plt.plot(ρ['g'][5,:], y[0])"
   ]
  },
  {
   "cell_type": "code",
   "execution_count": 26,
   "metadata": {
    "collapsed": true
   },
   "outputs": [],
   "source": [
    "s['g'] = (ρ['g'] - ρ0 + α * (T['g'] - T0))/ β +  s0"
   ]
  },
  {
   "cell_type": "code",
   "execution_count": 27,
   "metadata": {
    "collapsed": false
   },
   "outputs": [
    {
     "data": {
      "text/plain": [
       "<matplotlib.text.Text at 0x116d029b0>"
      ]
     },
     "execution_count": 27,
     "metadata": {},
     "output_type": "execute_result"
    },
    {
     "data": {
      "image/png": "[encoded data removed]",
      "text/plain": [
       "<matplotlib.figure.Figure at 0x116adf1d0>"
      ]
     },
     "metadata": {},
     "output_type": "display_data"
    }
   ],
   "source": [
    "fig, axis = plt.subplots(figsize=(4,7))\n",
    "pT = axis.pcolormesh(xm, ym, s['g'].T, cmap='rainbow');\n",
    "plt.colorbar(pT)\n",
    "plt.title('Salinidad [1/1000]')\n",
    "plt.xlabel('x')\n",
    "plt.ylabel('y')"
   ]
  },
  {
   "cell_type": "code",
   "execution_count": 28,
   "metadata": {
    "collapsed": false
   },
   "outputs": [
    {
     "data": {
      "text/plain": [
       "[<matplotlib.lines.Line2D at 0x117295390>]"
      ]
     },
     "execution_count": 28,
     "metadata": {},
     "output_type": "execute_result"
    },
    {
     "data": {
      "image/png": "[encoded data removed]",
      "text/plain": [
       "<matplotlib.figure.Figure at 0x109c28c88>"
      ]
     },
     "metadata": {},
     "output_type": "display_data"
    }
   ],
   "source": [
    "plt.plot(s['g'][5,:], y[0])"
   ]
  },
  {
   "cell_type": "code",
   "execution_count": 29,
   "metadata": {
    "collapsed": false
   },
   "outputs": [],
   "source": [
    "# Initial timestep\n",
    "dt = 0.1\n",
    "# Integration parameters\n",
    "solver.stop_sim_time = 10\n",
    "solver.stop_wall_time = 30 * 90.\n",
    "solver.stop_iteration = np.inf\n",
    "\n",
    "# Analysis\n",
    "snapshots = solver.evaluator.add_file_handler('strat_andrea', sim_dt=0.25, max_writes=100)\n",
    "snapshots.add_system(solver.state)\n",
    "\n",
    "# CFL\n",
    "CFL = flow_tools.CFL(solver, initial_dt=dt, cadence=5, safety=0.1, max_change=1.5, min_change=0.5, max_dt=0.02, threshold=0.01)\n",
    "CFL.add_velocities(('u', 'v'))\n"
   ]
  },
  {
   "cell_type": "code",
   "execution_count": 30,
   "metadata": {
    "collapsed": false
   },
   "outputs": [
    {
     "name": "stdout",
     "output_type": "stream",
     "text": [
      "2017-09-03 13:57:27,226 __main__ 0/1 INFO :: Starting loop\n"
     ]
    },
    {
     "name": "stderr",
     "output_type": "stream",
     "text": [
      "/Library/Frameworks/Python.framework/Versions/3.5/lib/python3.5/site-packages/scipy/sparse/linalg/dsolve/linsolve.py:155: MatrixRankWarning: Matrix is exactly singular\n",
      "  warn(\"Matrix is exactly singular\", MatrixRankWarning)\n"
     ]
    },
    {
     "name": "stdout",
     "output_type": "stream",
     "text": [
      "2017-09-03 13:57:28,684 __main__ 0/1 INFO :: Iteration: 1, Time: 1.000000e-01, dt: 1.000000e-01\n",
      "2017-09-03 13:57:39,156 __main__ 0/1 INFO :: Iteration: 11, Time: 6.000000e-01, dt: 5.000000e-02\n",
      "2017-09-03 13:57:49,617 __main__ 0/1 INFO :: Iteration: 21, Time: 1.100000e+00, dt: 5.000000e-02\n",
      "2017-09-03 13:58:00,032 __main__ 0/1 INFO :: Iteration: 31, Time: 1.600000e+00, dt: 5.000000e-02\n",
      "2017-09-03 13:58:10,353 __main__ 0/1 INFO :: Iteration: 41, Time: 2.100000e+00, dt: 5.000000e-02\n",
      "2017-09-03 13:58:20,764 __main__ 0/1 INFO :: Iteration: 51, Time: 2.600000e+00, dt: 5.000000e-02\n",
      "2017-09-03 13:58:31,251 __main__ 0/1 INFO :: Iteration: 61, Time: 3.100000e+00, dt: 5.000000e-02\n",
      "2017-09-03 13:58:41,969 __main__ 0/1 INFO :: Iteration: 71, Time: 3.600000e+00, dt: 5.000000e-02\n",
      "2017-09-03 13:58:52,759 __main__ 0/1 INFO :: Iteration: 81, Time: 4.100000e+00, dt: 5.000000e-02\n",
      "2017-09-03 13:59:03,233 __main__ 0/1 INFO :: Iteration: 91, Time: 4.600000e+00, dt: 5.000000e-02\n",
      "2017-09-03 13:59:13,849 __main__ 0/1 INFO :: Iteration: 101, Time: 5.100000e+00, dt: 5.000000e-02\n",
      "2017-09-03 13:59:24,443 __main__ 0/1 INFO :: Iteration: 111, Time: 5.600000e+00, dt: 5.000000e-02\n",
      "2017-09-03 13:59:42,743 __main__ 0/1 INFO :: Iteration: 121, Time: 6.100000e+00, dt: 5.000000e-02\n",
      "2017-09-03 14:00:00,192 __main__ 0/1 INFO :: Iteration: 131, Time: 6.600000e+00, dt: 5.000000e-02\n",
      "2017-09-03 14:00:13,507 __main__ 0/1 INFO :: Iteration: 141, Time: 7.100000e+00, dt: 5.000000e-02\n",
      "2017-09-03 14:00:28,055 __main__ 0/1 INFO :: Iteration: 151, Time: 7.600000e+00, dt: 5.000000e-02\n",
      "2017-09-03 14:00:39,336 __main__ 0/1 INFO :: Iteration: 161, Time: 8.100000e+00, dt: 5.000000e-02\n",
      "2017-09-03 14:00:50,150 __main__ 0/1 INFO :: Iteration: 171, Time: 8.600000e+00, dt: 5.000000e-02\n",
      "2017-09-03 14:01:00,735 __main__ 0/1 INFO :: Iteration: 181, Time: 9.100000e+00, dt: 5.000000e-02\n",
      "2017-09-03 14:01:11,484 __main__ 0/1 INFO :: Iteration: 191, Time: 9.600000e+00, dt: 5.000000e-02\n",
      "2017-09-03 14:01:19,890 solvers 0/1 INFO :: Simulation stop time reached.\n",
      "2017-09-03 14:01:19,891 __main__ 0/1 INFO :: Iterations: 199\n",
      "2017-09-03 14:01:19,891 __main__ 0/1 INFO :: Sim end time: 10.000000\n",
      "2017-09-03 14:01:19,892 __main__ 0/1 INFO :: Run time: 232.66 sec\n",
      "2017-09-03 14:01:19,893 __main__ 0/1 INFO :: Run time: 0.064629 cpu-hr\n"
     ]
    }
   ],
   "source": [
    "try:\n",
    "    logger.info('Starting loop')\n",
    "    start_time = time.time()\n",
    "    while solver.ok:\n",
    "        #print(\"hola\")\n",
    "        dt = CFL.compute_dt()\n",
    "        dt = solver.step(dt)\n",
    "        if (solver.iteration-1) % 10 == 0:\n",
    "            # Update plot of scalar field\n",
    "            logger.info('Iteration: %i, Time: %e, dt: %e' %(solver.iteration, solver.sim_time, dt))\n",
    "            #logger.info('Max Re = %f' %flow.max('Re'))\n",
    "except:\n",
    "    logger.error('Exception raised, triggering end of main loop.')\n",
    "    raise\n",
    "finally:\n",
    "    end_time = time.time()\n",
    "    logger.info('Iterations: %i' %solver.iteration)\n",
    "    logger.info('Sim end time: %f' %solver.sim_time)\n",
    "    logger.info('Run time: %.2f sec' %(end_time-start_time))\n",
    "    logger.info('Run time: %f cpu-hr' %((end_time-start_time)/60/60*domain.dist.comm_cart.size))"
   ]
  },
  {
   "cell_type": "markdown",
   "metadata": {},
   "source": [
    "# Análisis de datos"
   ]
  },
  {
   "cell_type": "code",
   "execution_count": 44,
   "metadata": {
    "collapsed": true
   },
   "outputs": [],
   "source": [
    "def extraer_datos(nombre_h5):\n",
    "\n",
    "    with h5py.File(nombre_h5, flag ='r') as hdf:\n",
    "        base_items = list(hdf.items())\n",
    "        print(base_items, '\\n')\n",
    "        tasks = hdf.get('tasks')\n",
    "        tasks_items = list(tasks.items())\n",
    "        print(tasks_items)\n",
    "\n",
    "        T = np.array(tasks.get('T'))\n",
    "        print(T.shape)\n",
    "\n",
    "        ρ = np.array(tasks.get('ρ'))\n",
    "        print(ρ.shape)\n",
    "        \n",
    "        s = np.array(tasks.get('s'))\n",
    "        print(s.shape)\n",
    "        \n",
    "    return T, ρ, s"
   ]
  },
  {
   "cell_type": "code",
   "execution_count": 45,
   "metadata": {
    "collapsed": false
   },
   "outputs": [
    {
     "name": "stdout",
     "output_type": "stream",
     "text": [
      "[('scales', <HDF5 group \"/scales\" (10 members)>), ('tasks', <HDF5 group \"/tasks\" (10 members)>)] \n",
      "\n",
      "[('vy', <HDF5 dataset \"vy\": shape (40, 256, 256), type \"<f8\">), ('p', <HDF5 dataset \"p\": shape (40, 256, 256), type \"<f8\">), ('uy', <HDF5 dataset \"uy\": shape (40, 256, 256), type \"<f8\">), ('T', <HDF5 dataset \"T\": shape (40, 256, 256), type \"<f8\">), ('ρ', <HDF5 dataset \"ρ\": shape (40, 256, 256), type \"<f8\">), ('u', <HDF5 dataset \"u\": shape (40, 256, 256), type \"<f8\">), ('s', <HDF5 dataset \"s\": shape (40, 256, 256), type \"<f8\">), ('sy', <HDF5 dataset \"sy\": shape (40, 256, 256), type \"<f8\">), ('v', <HDF5 dataset \"v\": shape (40, 256, 256), type \"<f8\">), ('Ty', <HDF5 dataset \"Ty\": shape (40, 256, 256), type \"<f8\">)]\n",
      "(40, 256, 256)\n",
      "(40, 256, 256)\n",
      "(40, 256, 256)\n"
     ]
    }
   ],
   "source": [
    "T_dat , ρ_dat, s_dat = extraer_datos('strat_andrea/strat_andrea_s1/strat_andrea_s1_p0.h5')"
   ]
  },
  {
   "cell_type": "code",
   "execution_count": 46,
   "metadata": {
    "collapsed": false
   },
   "outputs": [
    {
     "data": {
      "text/plain": [
       "(40, 256, 256)"
      ]
     },
     "execution_count": 46,
     "metadata": {},
     "output_type": "execute_result"
    }
   ],
   "source": [
    "s_dat.shape"
   ]
  },
  {
   "cell_type": "code",
   "execution_count": 49,
   "metadata": {
    "collapsed": false
   },
   "outputs": [
    {
     "data": {
      "text/plain": [
       "<matplotlib.colorbar.Colorbar at 0x119469550>"
      ]
     },
     "execution_count": 49,
     "metadata": {},
     "output_type": "execute_result"
    },
    {
     "name": "stderr",
     "output_type": "stream",
     "text": [
      "/Library/Frameworks/Python.framework/Versions/3.5/lib/python3.5/site-packages/matplotlib/colors.py:581: RuntimeWarning: invalid value encountered in less\n",
      "  cbook._putmask(xa, xa < 0.0, -1)\n"
     ]
    },
    {
     "data": {
      "image/png": "[encoded data removed]",
      "text/plain": [
       "<matplotlib.figure.Figure at 0x118f3b978>"
      ]
     },
     "metadata": {},
     "output_type": "display_data"
    }
   ],
   "source": [
    "fig, axis = plt.subplots(figsize=(4,7))\n",
    "p = axis.pcolormesh(xm, ym, ρ_dat[1].T, cmap='rainbow');\n",
    "plt.colorbar(p)"
   ]
  },
  {
   "cell_type": "code",
   "execution_count": 52,
   "metadata": {
    "collapsed": false
   },
   "outputs": [
    {
     "data": {
      "text/plain": [
       "array([[ nan,  nan,  nan, ...,  nan,  nan,  nan],\n",
       "       [ nan,  nan,  nan, ...,  nan,  nan,  nan],\n",
       "       [ nan,  nan,  nan, ...,  nan,  nan,  nan],\n",
       "       ..., \n",
       "       [ nan,  nan,  nan, ...,  nan,  nan,  nan],\n",
       "       [ nan,  nan,  nan, ...,  nan,  nan,  nan],\n",
       "       [ nan,  nan,  nan, ...,  nan,  nan,  nan]])"
      ]
     },
     "execution_count": 52,
     "metadata": {},
     "output_type": "execute_result"
    }
   ],
   "source": [
    "ρ_dat[1].T"
   ]
  },
  {
   "cell_type": "code",
   "execution_count": null,
   "metadata": {
    "collapsed": true
   },
   "outputs": [],
   "source": []
  }
 ],
 "metadata": {
  "kernelspec": {
   "display_name": "Python 3",
   "language": "python",
   "name": "python3"
  },
  "language_info": {
   "codemirror_mode": {
    "name": "ipython",
    "version": 3
   },
   "file_extension": ".py",
   "mimetype": "text/x-python",
   "name": "python",
   "nbconvert_exporter": "python",
   "pygments_lexer": "ipython3",
   "version": "3.5.0"
  }
 },
 "nbformat": 4,
 "nbformat_minor": 2
}
