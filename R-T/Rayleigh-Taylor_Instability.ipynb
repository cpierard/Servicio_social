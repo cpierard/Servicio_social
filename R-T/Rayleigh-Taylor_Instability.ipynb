{
 "cells": [
  {
   "cell_type": "code",
   "execution_count": 1,
   "metadata": {
    "collapsed": true
   },
   "outputs": [],
   "source": [
    "%matplotlib inline"
   ]
  },
  {
   "cell_type": "code",
   "execution_count": 2,
   "metadata": {
    "collapsed": true
   },
   "outputs": [],
   "source": [
    "import numpy as np\n",
    "import matplotlib.pyplot as plt\n",
    "import h5py\n",
    "from dedalus import public as de\n",
    "from dedalus.extras import flow_tools\n",
    "import time\n",
    "from IPython import display"
   ]
  },
  {
   "cell_type": "code",
   "execution_count": 3,
   "metadata": {
    "collapsed": true
   },
   "outputs": [],
   "source": [
    "import logging\n",
    "root = logging.root\n",
    "for h in root.handlers:\n",
    "    h.setLevel(\"INFO\")\n",
    "    \n",
    "logger = logging.getLogger(__name__)"
   ]
  },
  {
   "cell_type": "code",
   "execution_count": 4,
   "metadata": {
    "collapsed": true
   },
   "outputs": [],
   "source": [
    "Lx, Ly = (0.5, 0.4)\n",
    "nx, ny = (128, 128)\n",
    "\n",
    "x_basis = de.Fourier('x', nx, interval=(0, Lx), dealias=3/2)\n",
    "y_basis = de.Chebyshev('y', ny, interval=(0, Ly), dealias=3/2)\n",
    "domain = de.Domain([x_basis, y_basis], grid_dtype=np.float64)"
   ]
  },
  {
   "cell_type": "code",
   "execution_count": 5,
   "metadata": {
    "collapsed": true
   },
   "outputs": [],
   "source": [
    "problem = de.IVP(domain, variables=['p', 'u', 'v', 'ρ', 'uy', 'vy', 'ρy'])"
   ]
  },
  {
   "cell_type": "code",
   "execution_count": 6,
   "metadata": {
    "collapsed": true
   },
   "outputs": [],
   "source": [
    "ρ_lower = 998.23 #Tap_water\n",
    "A = 7e-4 #Atwood number\n",
    "ρ_upper = (ρ_lower * (1 + A))/(1 - A) #"
   ]
  },
  {
   "cell_type": "code",
   "execution_count": 7,
   "metadata": {
    "collapsed": true
   },
   "outputs": [],
   "source": [
    "ρ0 = (ρ_upper + ρ_lower)/2"
   ]
  },
  {
   "cell_type": "code",
   "execution_count": 8,
   "metadata": {
    "collapsed": false
   },
   "outputs": [],
   "source": [
    "problem.parameters['Re'] = 1e8\n",
    "problem.parameters['ρ0'] = ρ_lower\n",
    "problem.parameters['g'] = 9.8\n",
    "\n",
    "problem.add_equation(\"dt(u) + dx(p) - 1/Re*(dx(dx(u)) + dy(uy)) = - u*dx(u) - v*uy\")\n",
    "problem.add_equation(\"dt(v) + dy(p) - 1/Re*(dx(dx(v)) + dy(vy)) = - u*dx(v) - v*vy - g*(ρ - ρ0)/ρ0\")\n",
    "problem.add_equation(\"dx(u) + vy = 0\")\n",
    "problem.add_equation(\"dt(ρ) = - u*dx(ρ) - v*ρy\")\n",
    "problem.add_equation(\"uy - dy(u) = 0\")\n",
    "problem.add_equation(\"vy - dy(v) = 0\")\n",
    "problem.add_equation(\"ρy - dy(ρ) = 0\")\n"
   ]
  },
  {
   "cell_type": "code",
   "execution_count": 9,
   "metadata": {
    "collapsed": false
   },
   "outputs": [],
   "source": [
    "problem.add_bc(\"left(u) = 0\")\n",
    "problem.add_bc(\"right(u) = 0\")\n",
    "problem.add_bc(\"left(v) = 0\")\n",
    "problem.add_bc(\"right(v) = 0\", condition=\"(nx != 0)\")\n",
    "problem.add_bc(\"right(p) = 0\", condition=\"(nx == 0)\")\n",
    "problem.add_bc(\"left(ρ) = ρ0\")"
   ]
  },
  {
   "cell_type": "code",
   "execution_count": 10,
   "metadata": {
    "collapsed": true
   },
   "outputs": [],
   "source": [
    "ts = de.timesteppers.RK443"
   ]
  },
  {
   "cell_type": "code",
   "execution_count": 11,
   "metadata": {
    "collapsed": false
   },
   "outputs": [
    {
     "name": "stdout",
     "output_type": "stream",
     "text": [
      "2017-07-25 13:00:45,663 pencil 0/1 INFO :: Building pencil matrix 1/64 (~2%) Elapsed: 0s, Remaining: 2s, Rate: 2.5e+01/s\n",
      "2017-07-25 13:00:45,845 pencil 0/1 INFO :: Building pencil matrix 7/64 (~11%) Elapsed: 0s, Remaining: 2s, Rate: 3.2e+01/s\n",
      "2017-07-25 13:00:46,055 pencil 0/1 INFO :: Building pencil matrix 14/64 (~22%) Elapsed: 0s, Remaining: 2s, Rate: 3.2e+01/s\n",
      "2017-07-25 13:00:46,250 pencil 0/1 INFO :: Building pencil matrix 21/64 (~33%) Elapsed: 1s, Remaining: 1s, Rate: 3.4e+01/s\n",
      "2017-07-25 13:00:46,451 pencil 0/1 INFO :: Building pencil matrix 28/64 (~44%) Elapsed: 1s, Remaining: 1s, Rate: 3.4e+01/s\n",
      "2017-07-25 13:00:46,646 pencil 0/1 INFO :: Building pencil matrix 35/64 (~55%) Elapsed: 1s, Remaining: 1s, Rate: 3.4e+01/s\n",
      "2017-07-25 13:00:46,885 pencil 0/1 INFO :: Building pencil matrix 42/64 (~66%) Elapsed: 1s, Remaining: 1s, Rate: 3.3e+01/s\n",
      "2017-07-25 13:00:47,209 pencil 0/1 INFO :: Building pencil matrix 49/64 (~77%) Elapsed: 2s, Remaining: 0s, Rate: 3.1e+01/s\n",
      "2017-07-25 13:00:47,415 pencil 0/1 INFO :: Building pencil matrix 56/64 (~88%) Elapsed: 2s, Remaining: 0s, Rate: 3.1e+01/s\n",
      "2017-07-25 13:00:47,615 pencil 0/1 INFO :: Building pencil matrix 63/64 (~98%) Elapsed: 2s, Remaining: 0s, Rate: 3.2e+01/s\n",
      "2017-07-25 13:00:47,642 pencil 0/1 INFO :: Building pencil matrix 64/64 (~100%) Elapsed: 2s, Remaining: 0s, Rate: 3.2e+01/s\n"
     ]
    }
   ],
   "source": [
    "solver =  problem.build_solver(ts)"
   ]
  },
  {
   "cell_type": "code",
   "execution_count": 12,
   "metadata": {
    "collapsed": true
   },
   "outputs": [],
   "source": [
    "x = domain.grid(0)\n",
    "y = domain.grid(1)\n",
    "ρ = solver.state['ρ']\n",
    "yb, yt = y_basis.interval"
   ]
  },
  {
   "cell_type": "code",
   "execution_count": 13,
   "metadata": {
    "collapsed": false
   },
   "outputs": [
    {
     "data": {
      "text/plain": [
       "(1, 128)"
      ]
     },
     "execution_count": 13,
     "metadata": {},
     "output_type": "execute_result"
    }
   ],
   "source": [
    "y.shape"
   ]
  },
  {
   "cell_type": "code",
   "execution_count": 14,
   "metadata": {
    "collapsed": false
   },
   "outputs": [],
   "source": [
    "xm, ym = np.meshgrid(x,y)"
   ]
  },
  {
   "cell_type": "code",
   "execution_count": 15,
   "metadata": {
    "collapsed": false
   },
   "outputs": [
    {
     "data": {
      "text/plain": [
       "(128, 128)"
      ]
     },
     "execution_count": 15,
     "metadata": {},
     "output_type": "execute_result"
    }
   ],
   "source": [
    "xm.shape"
   ]
  },
  {
   "cell_type": "code",
   "execution_count": 16,
   "metadata": {
    "collapsed": false
   },
   "outputs": [],
   "source": [
    "ρ['g'] = np.zeros_like(ρ['g'])"
   ]
  },
  {
   "cell_type": "code",
   "execution_count": 17,
   "metadata": {
    "collapsed": false
   },
   "outputs": [
    {
     "data": {
      "text/plain": [
       "(128, 128)"
      ]
     },
     "execution_count": 17,
     "metadata": {},
     "output_type": "execute_result"
    }
   ],
   "source": [
    " ρ['g'].shape"
   ]
  },
  {
   "cell_type": "code",
   "execution_count": 18,
   "metadata": {
    "collapsed": false
   },
   "outputs": [],
   "source": [
    "for i in range(0, 64):\n",
    "    ρ['g'][:, i] = ρ['g'][:, i] + ρ_lower\n",
    "    \n",
    "for i in range(64, 128):\n",
    "     ρ['g'][:, i] = ρ['g'][:, i] + ρ_upper"
   ]
  },
  {
   "cell_type": "code",
   "execution_count": 19,
   "metadata": {
    "collapsed": false
   },
   "outputs": [
    {
     "data": {
      "text/plain": [
       "(128, 128)"
      ]
     },
     "execution_count": 19,
     "metadata": {},
     "output_type": "execute_result"
    }
   ],
   "source": [
    "ρ['g'].shape"
   ]
  },
  {
   "cell_type": "code",
   "execution_count": 21,
   "metadata": {
    "collapsed": false
   },
   "outputs": [
    {
     "data": {
      "text/plain": [
       "<matplotlib.colorbar.Colorbar at 0x10aed0710>"
      ]
     },
     "execution_count": 21,
     "metadata": {},
     "output_type": "execute_result"
    },
    {
     "data": {
      "image/png": "[encoded data removed]",
      "text/plain": [
       "<matplotlib.figure.Figure at 0x10a05dd30>"
      ]
     },
     "metadata": {},
     "output_type": "display_data"
    }
   ],
   "source": [
    "plt.pcolormesh(xm, ym, ρ['g'].T, cmap='spring')\n",
    "plt.colorbar()"
   ]
  },
  {
   "cell_type": "code",
   "execution_count": 23,
   "metadata": {
    "collapsed": false
   },
   "outputs": [
    {
     "data": {
      "text/plain": [
       "<matplotlib.text.Text at 0x10b400be0>"
      ]
     },
     "execution_count": 23,
     "metadata": {},
     "output_type": "execute_result"
    },
    {
     "data": {
      "image/png": "[encoded data removed]",
      "text/plain": [
       "<matplotlib.figure.Figure at 0x10b322630>"
      ]
     },
     "metadata": {},
     "output_type": "display_data"
    }
   ],
   "source": [
    "plt.plot(ρ['g'][1], y[0])\n",
    "plt.xlabel('density')\n",
    "plt.ylabel('z')"
   ]
  },
  {
   "cell_type": "code",
   "execution_count": 24,
   "metadata": {
    "collapsed": false
   },
   "outputs": [
    {
     "data": {
      "text/plain": [
       "0.00078125"
      ]
     },
     "execution_count": 24,
     "metadata": {},
     "output_type": "execute_result"
    }
   ],
   "source": [
    "Lx/nx*0.2"
   ]
  },
  {
   "cell_type": "code",
   "execution_count": 25,
   "metadata": {
    "collapsed": true
   },
   "outputs": [],
   "source": [
    "# Initial timestep\n",
    "dt = 0.0001\n",
    "# Integration parameters\n",
    "solver.stop_sim_time = .2\n",
    "solver.stop_wall_time = np.inf\n",
    "solver.stop_iteration = np.inf\n",
    "\n",
    "# Analysis\n",
    "snapshots = solver.evaluator.add_file_handler('RT_1', sim_dt=0.01, max_writes=50)\n",
    "snapshots.add_system(solver.state)\n",
    "\n",
    "# CFL\n",
    "CFL = flow_tools.CFL(solver, initial_dt=dt, max_dt=0.0002, threshold=0.00009)\n",
    "CFL.add_velocities(('u', 'v'))\n",
    "\n",
    "#flow = flow_tools.GlobalFlowProperty(solver, cadence=10)\n",
    "#flow.add_property(\"sqrt(u*u + v*v) / R\", name='Re')"
   ]
  },
  {
   "cell_type": "code",
   "execution_count": 26,
   "metadata": {
    "collapsed": false
   },
   "outputs": [
    {
     "name": "stdout",
     "output_type": "stream",
     "text": [
      "2017-07-25 13:01:43,950 __main__ 0/1 INFO :: Starting loop\n",
      "2017-07-25 13:01:44,481 __main__ 0/1 INFO :: Iteration: 1, Time: 1.000000e-04, dt: 1.000000e-04\n",
      "2017-07-25 13:01:47,838 __main__ 0/1 INFO :: Iteration: 11, Time: 2.100000e-03, dt: 2.000000e-04\n",
      "2017-07-25 13:01:51,030 __main__ 0/1 INFO :: Iteration: 21, Time: 4.100000e-03, dt: 2.000000e-04\n",
      "2017-07-25 13:01:54,500 __main__ 0/1 INFO :: Iteration: 31, Time: 6.100000e-03, dt: 2.000000e-04\n",
      "2017-07-25 13:01:57,717 __main__ 0/1 INFO :: Iteration: 41, Time: 8.100000e-03, dt: 2.000000e-04\n",
      "2017-07-25 13:02:01,379 __main__ 0/1 INFO :: Iteration: 51, Time: 1.010000e-02, dt: 2.000000e-04\n",
      "2017-07-25 13:02:04,582 __main__ 0/1 INFO :: Iteration: 61, Time: 1.210000e-02, dt: 2.000000e-04\n",
      "2017-07-25 13:02:08,411 __main__ 0/1 INFO :: Iteration: 71, Time: 1.410000e-02, dt: 2.000000e-04\n",
      "2017-07-25 13:02:12,457 __main__ 0/1 INFO :: Iteration: 81, Time: 1.610000e-02, dt: 2.000000e-04\n",
      "2017-07-25 13:02:16,317 __main__ 0/1 INFO :: Iteration: 91, Time: 1.810000e-02, dt: 2.000000e-04\n",
      "2017-07-25 13:02:18,480 __main__ 0/1 ERROR :: Exception raised, triggering end of main loop.\n",
      "2017-07-25 13:02:18,481 __main__ 0/1 INFO :: Iterations: 97\n",
      "2017-07-25 13:02:18,482 __main__ 0/1 INFO :: Sim end time: 0.019400\n",
      "2017-07-25 13:02:18,483 __main__ 0/1 INFO :: Run time: 34.53 sec\n",
      "2017-07-25 13:02:18,484 __main__ 0/1 INFO :: Run time: 0.009592 cpu-hr\n"
     ]
    },
    {
     "ename": "KeyboardInterrupt",
     "evalue": "",
     "output_type": "error",
     "traceback": [
      "\u001b[0;31m---------------------------------------------------------------------------\u001b[0m",
      "\u001b[0;31mKeyboardInterrupt\u001b[0m                         Traceback (most recent call last)",
      "\u001b[0;32m<ipython-input-26-e41b77ef1a3c>\u001b[0m in \u001b[0;36m<module>\u001b[0;34m()\u001b[0m\n\u001b[1;32m      5\u001b[0m         \u001b[0;31m#print(\"hola\")\u001b[0m\u001b[0;34m\u001b[0m\u001b[0;34m\u001b[0m\u001b[0m\n\u001b[1;32m      6\u001b[0m         \u001b[0mdt\u001b[0m \u001b[0;34m=\u001b[0m \u001b[0mCFL\u001b[0m\u001b[0;34m.\u001b[0m\u001b[0mcompute_dt\u001b[0m\u001b[0;34m(\u001b[0m\u001b[0;34m)\u001b[0m\u001b[0;34m\u001b[0m\u001b[0m\n\u001b[0;32m----> 7\u001b[0;31m         \u001b[0mdt\u001b[0m \u001b[0;34m=\u001b[0m \u001b[0msolver\u001b[0m\u001b[0;34m.\u001b[0m\u001b[0mstep\u001b[0m\u001b[0;34m(\u001b[0m\u001b[0mdt\u001b[0m\u001b[0;34m)\u001b[0m\u001b[0;34m\u001b[0m\u001b[0m\n\u001b[0m\u001b[1;32m      8\u001b[0m         \u001b[0;32mif\u001b[0m \u001b[0;34m(\u001b[0m\u001b[0msolver\u001b[0m\u001b[0;34m.\u001b[0m\u001b[0miteration\u001b[0m\u001b[0;34m-\u001b[0m\u001b[0;36m1\u001b[0m\u001b[0;34m)\u001b[0m \u001b[0;34m%\u001b[0m \u001b[0;36m10\u001b[0m \u001b[0;34m==\u001b[0m \u001b[0;36m0\u001b[0m\u001b[0;34m:\u001b[0m\u001b[0;34m\u001b[0m\u001b[0m\n\u001b[1;32m      9\u001b[0m             \u001b[0;31m# Update plot of scalar field\u001b[0m\u001b[0;34m\u001b[0m\u001b[0;34m\u001b[0m\u001b[0m\n",
      "\u001b[0;32m/Users/claudiopierard/dedalus/dedalus/core/solvers.py\u001b[0m in \u001b[0;36mstep\u001b[0;34m(self, dt, trim)\u001b[0m\n\u001b[1;32m    437\u001b[0m         \u001b[0;31m# Advance using timestepper\u001b[0m\u001b[0;34m\u001b[0m\u001b[0;34m\u001b[0m\u001b[0m\n\u001b[1;32m    438\u001b[0m         \u001b[0mwall_time\u001b[0m \u001b[0;34m=\u001b[0m \u001b[0mself\u001b[0m\u001b[0;34m.\u001b[0m\u001b[0mget_wall_time\u001b[0m\u001b[0;34m(\u001b[0m\u001b[0;34m)\u001b[0m \u001b[0;34m-\u001b[0m \u001b[0mself\u001b[0m\u001b[0;34m.\u001b[0m\u001b[0mstart_time\u001b[0m\u001b[0;34m\u001b[0m\u001b[0m\n\u001b[0;32m--> 439\u001b[0;31m         \u001b[0mself\u001b[0m\u001b[0;34m.\u001b[0m\u001b[0mtimestepper\u001b[0m\u001b[0;34m.\u001b[0m\u001b[0mstep\u001b[0m\u001b[0;34m(\u001b[0m\u001b[0mself\u001b[0m\u001b[0;34m,\u001b[0m \u001b[0mdt\u001b[0m\u001b[0;34m,\u001b[0m \u001b[0mwall_time\u001b[0m\u001b[0;34m)\u001b[0m\u001b[0;34m\u001b[0m\u001b[0m\n\u001b[0m\u001b[1;32m    440\u001b[0m         \u001b[0;31m# (Safety scatter)\u001b[0m\u001b[0;34m\u001b[0m\u001b[0;34m\u001b[0m\u001b[0m\n\u001b[1;32m    441\u001b[0m         \u001b[0mself\u001b[0m\u001b[0;34m.\u001b[0m\u001b[0mstate\u001b[0m\u001b[0;34m.\u001b[0m\u001b[0mscatter\u001b[0m\u001b[0;34m(\u001b[0m\u001b[0;34m)\u001b[0m\u001b[0;34m\u001b[0m\u001b[0m\n",
      "\u001b[0;32m/Users/claudiopierard/dedalus/dedalus/core/timesteppers.py\u001b[0m in \u001b[0;36mstep\u001b[0;34m(self, solver, dt, wall_time)\u001b[0m\n\u001b[1;32m    578\u001b[0m                 \u001b[0;32melse\u001b[0m\u001b[0;34m:\u001b[0m\u001b[0;34m\u001b[0m\u001b[0m\n\u001b[1;32m    579\u001b[0m                     \u001b[0mnp\u001b[0m\u001b[0;34m.\u001b[0m\u001b[0mcopyto\u001b[0m\u001b[0;34m(\u001b[0m\u001b[0mp\u001b[0m\u001b[0;34m.\u001b[0m\u001b[0mLHS\u001b[0m\u001b[0;34m.\u001b[0m\u001b[0mdata\u001b[0m\u001b[0;34m,\u001b[0m \u001b[0mp\u001b[0m\u001b[0;34m.\u001b[0m\u001b[0mM_exp\u001b[0m\u001b[0;34m.\u001b[0m\u001b[0mdata\u001b[0m \u001b[0;34m+\u001b[0m \u001b[0;34m(\u001b[0m\u001b[0mk\u001b[0m\u001b[0;34m*\u001b[0m\u001b[0mH\u001b[0m\u001b[0;34m[\u001b[0m\u001b[0mi\u001b[0m\u001b[0;34m,\u001b[0m\u001b[0mi\u001b[0m\u001b[0;34m]\u001b[0m\u001b[0;34m)\u001b[0m\u001b[0;34m*\u001b[0m\u001b[0mp\u001b[0m\u001b[0;34m.\u001b[0m\u001b[0mL_exp\u001b[0m\u001b[0;34m.\u001b[0m\u001b[0mdata\u001b[0m\u001b[0;34m)\u001b[0m\u001b[0;34m\u001b[0m\u001b[0m\n\u001b[0;32m--> 580\u001b[0;31m                     \u001b[0mpX\u001b[0m \u001b[0;34m=\u001b[0m \u001b[0mlinalg\u001b[0m\u001b[0;34m.\u001b[0m\u001b[0mspsolve\u001b[0m\u001b[0;34m(\u001b[0m\u001b[0mp\u001b[0m\u001b[0;34m.\u001b[0m\u001b[0mLHS\u001b[0m\u001b[0;34m,\u001b[0m \u001b[0mpRHS\u001b[0m\u001b[0;34m,\u001b[0m \u001b[0muse_umfpack\u001b[0m\u001b[0;34m=\u001b[0m\u001b[0mUSE_UMFPACK\u001b[0m\u001b[0;34m,\u001b[0m \u001b[0mpermc_spec\u001b[0m\u001b[0;34m=\u001b[0m\u001b[0mPERMC_SPEC\u001b[0m\u001b[0;34m)\u001b[0m\u001b[0;34m\u001b[0m\u001b[0m\n\u001b[0m\u001b[1;32m    581\u001b[0m                     \u001b[0;32mif\u001b[0m \u001b[0mp\u001b[0m\u001b[0;34m.\u001b[0m\u001b[0mdirichlet\u001b[0m\u001b[0;34m:\u001b[0m\u001b[0;34m\u001b[0m\u001b[0m\n\u001b[1;32m    582\u001b[0m                         \u001b[0mpX\u001b[0m \u001b[0;34m=\u001b[0m \u001b[0mp\u001b[0m\u001b[0;34m.\u001b[0m\u001b[0mJD\u001b[0m \u001b[0;34m*\u001b[0m \u001b[0mpX\u001b[0m\u001b[0;34m\u001b[0m\u001b[0m\n",
      "\u001b[0;32m/Library/Frameworks/Python.framework/Versions/3.5/lib/python3.5/site-packages/scipy/sparse/linalg/dsolve/linsolve.py\u001b[0m in \u001b[0;36mspsolve\u001b[0;34m(A, b, permc_spec, use_umfpack)\u001b[0m\n\u001b[1;32m    151\u001b[0m             \u001b[0moptions\u001b[0m \u001b[0;34m=\u001b[0m \u001b[0mdict\u001b[0m\u001b[0;34m(\u001b[0m\u001b[0mColPerm\u001b[0m\u001b[0;34m=\u001b[0m\u001b[0mpermc_spec\u001b[0m\u001b[0;34m)\u001b[0m\u001b[0;34m\u001b[0m\u001b[0m\n\u001b[1;32m    152\u001b[0m             x, info = _superlu.gssv(N, A.nnz, A.data, A.indices, A.indptr,\n\u001b[0;32m--> 153\u001b[0;31m                                     b, flag, options=options)\n\u001b[0m\u001b[1;32m    154\u001b[0m             \u001b[0;32mif\u001b[0m \u001b[0minfo\u001b[0m \u001b[0;34m!=\u001b[0m \u001b[0;36m0\u001b[0m\u001b[0;34m:\u001b[0m\u001b[0;34m\u001b[0m\u001b[0m\n\u001b[1;32m    155\u001b[0m                 \u001b[0mwarn\u001b[0m\u001b[0;34m(\u001b[0m\u001b[0;34m\"Matrix is exactly singular\"\u001b[0m\u001b[0;34m,\u001b[0m \u001b[0mMatrixRankWarning\u001b[0m\u001b[0;34m)\u001b[0m\u001b[0;34m\u001b[0m\u001b[0m\n",
      "\u001b[0;31mKeyboardInterrupt\u001b[0m: "
     ]
    }
   ],
   "source": [
    "try:\n",
    "    logger.info('Starting loop')\n",
    "    start_time = time.time()\n",
    "    while solver.ok:\n",
    "        #print(\"hola\")\n",
    "        dt = CFL.compute_dt()\n",
    "        dt = solver.step(dt)\n",
    "        if (solver.iteration-1) % 10 == 0:\n",
    "            # Update plot of scalar field\n",
    "            logger.info('Iteration: %i, Time: %e, dt: %e' %(solver.iteration, solver.sim_time, dt))\n",
    "            #logger.info('Max Re = %f' %flow.max('Re'))\n",
    "except:\n",
    "    logger.error('Exception raised, triggering end of main loop.')\n",
    "    raise\n",
    "finally:\n",
    "    end_time = time.time()\n",
    "    logger.info('Iterations: %i' %solver.iteration)\n",
    "    logger.info('Sim end time: %f' %solver.sim_time)\n",
    "    logger.info('Run time: %.2f sec' %(end_time-start_time))\n",
    "    logger.info('Run time: %f cpu-hr' %((end_time-start_time)/60/60*domain.dist.comm_cart.size))"
   ]
  },
  {
   "cell_type": "code",
   "execution_count": 27,
   "metadata": {
    "collapsed": true
   },
   "outputs": [],
   "source": [
    "def extraer_datos(nombre_h5):\n",
    "\n",
    "    with h5py.File(nombre_h5, flag ='r') as hdf:\n",
    "        base_items = list(hdf.items())\n",
    "        print(base_items, '\\n')\n",
    "        tasks = hdf.get('tasks')\n",
    "        tasks_items = list(tasks.items())\n",
    "        print(tasks_items)\n",
    "\n",
    "        ρ = np.array(tasks.get('ρ'))\n",
    "        print(ρ.shape)\n",
    "        \n",
    "    return  ρ"
   ]
  },
  {
   "cell_type": "code",
   "execution_count": 28,
   "metadata": {
    "collapsed": false
   },
   "outputs": [
    {
     "name": "stdout",
     "output_type": "stream",
     "text": [
      "[('scales', <HDF5 group \"/scales\" (10 members)>), ('tasks', <HDF5 group \"/tasks\" (7 members)>)] \n",
      "\n",
      "[('p', <HDF5 dataset \"p\": shape (2, 128, 128), type \"<f8\">), ('u', <HDF5 dataset \"u\": shape (2, 128, 128), type \"<f8\">), ('v', <HDF5 dataset \"v\": shape (2, 128, 128), type \"<f8\">), ('uy', <HDF5 dataset \"uy\": shape (2, 128, 128), type \"<f8\">), ('vy', <HDF5 dataset \"vy\": shape (2, 128, 128), type \"<f8\">), ('ρ', <HDF5 dataset \"ρ\": shape (2, 128, 128), type \"<f8\">), ('ρy', <HDF5 dataset \"ρy\": shape (2, 128, 128), type \"<f8\">)]\n",
      "(2, 128, 128)\n"
     ]
    }
   ],
   "source": [
    "ρ_dat = extraer_datos('RT_1/RT_1_s1/RT_1_s1_p0.h5')"
   ]
  },
  {
   "cell_type": "code",
   "execution_count": 29,
   "metadata": {
    "collapsed": false
   },
   "outputs": [
    {
     "data": {
      "text/plain": [
       "(2, 128, 128)"
      ]
     },
     "execution_count": 29,
     "metadata": {},
     "output_type": "execute_result"
    }
   ],
   "source": [
    "ρ_dat.shape"
   ]
  },
  {
   "cell_type": "code",
   "execution_count": 30,
   "metadata": {
    "collapsed": false
   },
   "outputs": [
    {
     "data": {
      "text/plain": [
       "<matplotlib.colorbar.Colorbar at 0x10b73f400>"
      ]
     },
     "execution_count": 30,
     "metadata": {},
     "output_type": "execute_result"
    },
    {
     "data": {
      "image/png": "[encoded data removed]",
      "text/plain": [
       "<matplotlib.figure.Figure at 0x10b4da828>"
      ]
     },
     "metadata": {},
     "output_type": "display_data"
    }
   ],
   "source": [
    "fig, axis = plt.subplots(figsize=(6,4.8))\n",
    "p = axis.pcolormesh(xm, ym, ρ_dat[-1].T, cmap='summer');\n",
    "plt.colorbar(p)"
   ]
  },
  {
   "cell_type": "code",
   "execution_count": null,
   "metadata": {
    "collapsed": true
   },
   "outputs": [],
   "source": []
  }
 ],
 "metadata": {
  "kernelspec": {
   "display_name": "Python 3",
   "language": "python",
   "name": "python3"
  },
  "language_info": {
   "codemirror_mode": {
    "name": "ipython",
    "version": 3
   },
   "file_extension": ".py",
   "mimetype": "text/x-python",
   "name": "python",
   "nbconvert_exporter": "python",
   "pygments_lexer": "ipython3",
   "version": "3.5.0"
  }
 },
 "nbformat": 4,
 "nbformat_minor": 2
}
