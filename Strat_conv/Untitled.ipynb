{
 "cells": [
  {
   "cell_type": "code",
   "execution_count": 1,
   "metadata": {
    "collapsed": false
   },
   "outputs": [
    {
     "data": {
      "text/plain": [
       "Plots.PyPlotBackend()"
      ]
     },
     "execution_count": 1,
     "metadata": {},
     "output_type": "execute_result"
    }
   ],
   "source": [
    "using HDF5, Plots\n",
    "pyplot()"
   ]
  },
  {
   "cell_type": "code",
   "execution_count": 51,
   "metadata": {
    "collapsed": false
   },
   "outputs": [],
   "source": [
    "file_8x9am_s1 = \"temp_salinity_8x9am/temp_salinity_8x9am_s1.h5\"\n",
    "T_prof_s1_8_9 = h5read(file_8x9am_s1, \"tasks/T profile\")\n",
    "s_prof_s1_8_9 = h5read(file_8x9am_s1, \"tasks/s profile\")\n",
    "sim_t_s1_8_9 = trunc.(Int8, h5read(file_8x9am_s1, \"scales/sim_time\"));"
   ]
  },
  {
   "cell_type": "code",
   "execution_count": 52,
   "metadata": {
    "collapsed": true
   },
   "outputs": [],
   "source": [
    "file_7x2pm_s1 = \"temp_salinity_7x2pm/temp_salinity_7x2pm_s1.h5\"\n",
    "T_prof_s1_7_2 = h5read(file_7x2pm_s1, \"tasks/T profile\")\n",
    "s_prof_s1_7_2 = h5read(file_7x2pm_s1, \"tasks/s profile\")\n",
    "sim_t_s1_7_2 = trunc.(Int8, h5read(file_7x2pm_s1, \"scales/sim_time\"));"
   ]
  },
  {
   "cell_type": "code",
   "execution_count": 53,
   "metadata": {
    "collapsed": true
   },
   "outputs": [],
   "source": [
    "file_8x12pm_s1 = \"temp_salinity_8x12pm/temp_salinity_8x12pm_s1.h5\"\n",
    "T_prof_s1_8_12 = h5read(file_8x12pm_s1, \"tasks/T profile\")\n",
    "s_prof_s1_8_12 = h5read(file_8x12pm_s1, \"tasks/s profile\")\n",
    "sim_t_s1_8_12 = trunc.(Int8, h5read(file_8x12pm_s1, \"scales/sim_time\"));"
   ]
  },
  {
   "cell_type": "code",
   "execution_count": 27,
   "metadata": {
    "collapsed": true
   },
   "outputs": [],
   "source": [
    "file_8x9am_s2 = \"temp_salinity_8x9am/temp_salinity_8x9am_s2.h5\"\n",
    "T_prof_s2 = h5read(file_8x9am_s2, \"tasks/T profile\")\n",
    "s_prof_s2 = h5read(file_8x9am_s2, \"tasks/s profile\")\n",
    "sim_t_s2 = h5read(file_8x9am_s2, \"scales/sim_time\");"
   ]
  },
  {
   "cell_type": "code",
   "execution_count": 28,
   "metadata": {
    "collapsed": true
   },
   "outputs": [],
   "source": [
    "file_8x9am_s3 = \"temp_salinity_8x9am/temp_salinity_8x9am_s3.h5\"\n",
    "T_prof_s3 = h5read(file_8x9am_s3, \"tasks/T profile\")\n",
    "s_prof_s3 = h5read(file_8x9am_s3, \"tasks/s profile\")\n",
    "sim_t_s3 = h5read(file_8x9am_s3, \"scales/sim_time\");"
   ]
  },
  {
   "cell_type": "code",
   "execution_count": 24,
   "metadata": {
    "collapsed": false
   },
   "outputs": [
    {
     "data": {
      "text/plain": [
       "0.0:0.000588235294117647:0.15"
      ]
     },
     "execution_count": 24,
     "metadata": {},
     "output_type": "execute_result"
    }
   ],
   "source": [
    "y_dim = linspace(0, 0.15, 256)"
   ]
  },
  {
   "cell_type": "code",
   "execution_count": 56,
   "metadata": {
    "collapsed": false
   },
   "outputs": [
    {
     "name": "stderr",
     "output_type": "stream",
     "text": [
      "\u001b[1m\u001b[36mINFO: \u001b[39m\u001b[22m\u001b[36mSaved animation to /Users/claudiopierard/ServicioSocial/Proyecto/Strat_conv/tmp.gif\n",
      "\u001b[39m"
     ]
    },
    {
     "data": {
      "text/html": [
       "<img src=\"tmp.gif?0.10958819383012353>\" />"
      ],
      "text/plain": [
       "Plots.AnimatedGif(\"/Users/claudiopierard/ServicioSocial/Proyecto/Strat_conv/tmp.gif\")"
      ]
     },
     "execution_count": 56,
     "metadata": {},
     "output_type": "execute_result"
    }
   ],
   "source": [
    "@gif for i in 1:1:200\n",
    "    plot(s_prof_s1_7_2[:,1,i], y_dim, grid = false, size = size = (300,563), label = \"Sc = 1\")\n",
    "    plot!(s_prof_s1_8_9[:,1,i], y_dim, label = \"Sc = 100\")\n",
    "    plot!(s_prof_s1_8_12[:,1,i], y_dim, label = \"Sc = 1000\")\n",
    "    \n",
    "    title!(\"Perfil salinidad\")\n",
    "    xlims!(0,13)\n",
    "    end"
   ]
  },
  {
   "cell_type": "code",
   "execution_count": 48,
   "metadata": {
    "collapsed": false
   },
   "outputs": [
    {
     "name": "stderr",
     "output_type": "stream",
     "text": [
      "\u001b[1m\u001b[36mINFO: \u001b[39m\u001b[22m\u001b[36mSaved animation to /Users/claudiopierard/ServicioSocial/Proyecto/Strat_conv/tmp.gif\n",
      "\u001b[39m"
     ]
    },
    {
     "data": {
      "text/html": [
       "<img src=\"tmp.gif?0.7960511503683048>\" />"
      ],
      "text/plain": [
       "Plots.AnimatedGif(\"/Users/claudiopierard/ServicioSocial/Proyecto/Strat_conv/tmp.gif\")"
      ]
     },
     "execution_count": 48,
     "metadata": {},
     "output_type": "execute_result"
    }
   ],
   "source": [
    "@gif for i in 1:2:200\n",
    "    plot(T_prof_s1[:,1,i], y_dim, grid = false, size = size = (300,563), label = string(sim_t_s1[i]))\n",
    "    title!(\"Temp_prom_s1\")\n",
    "    xlims!(19,25)\n",
    "    end"
   ]
  },
  {
   "cell_type": "code",
   "execution_count": null,
   "metadata": {
    "collapsed": true
   },
   "outputs": [],
   "source": []
  }
 ],
 "metadata": {
  "kernelspec": {
   "display_name": "Julia 0.6.0",
   "language": "julia",
   "name": "julia-0.6"
  },
  "language_info": {
   "file_extension": ".jl",
   "mimetype": "application/julia",
   "name": "julia",
   "version": "0.6.0"
  }
 },
 "nbformat": 4,
 "nbformat_minor": 2
}
